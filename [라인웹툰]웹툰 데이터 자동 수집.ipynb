{
 "cells": [
  {
   "cell_type": "markdown",
   "metadata": {},
   "source": [
    "# 필요 라이브러리"
   ]
  },
  {
   "cell_type": "code",
   "execution_count": 1,
   "metadata": {},
   "outputs": [],
   "source": [
    "import pyautogui\n",
    "import time\n",
    "import pyperclip\n",
    "import pandas as pd\n",
    "import requests\n",
    "from bs4 import BeautifulSoup\n",
    "from selenium import webdriver\n",
    "\n",
    "from selenium.webdriver.common.keys import Keys"
   ]
  },
  {
   "cell_type": "markdown",
   "metadata": {},
   "source": [
    "# 좌표 및 함수 설정"
   ]
  },
  {
   "cell_type": "code",
   "execution_count": 2,
   "metadata": {},
   "outputs": [],
   "source": [
    "# 하나의 row당 클릭 위치\n",
    "x = [-1372, -1179, -951, -757, -535]\n",
    "y = [319] * 5\n",
    "\n",
    "# 뒤로가기 버튼\n",
    "backward_loc = [-1897, 51]\n",
    "\n",
    "# 스크롤 내림 버튼\n",
    "scroll_down = [-8, 1031]\n",
    "\n",
    "# 첫 시작 시 클릭 위치\n",
    "first = [-1692, 489]\n",
    "\n",
    "# url 위치\n",
    "url_click = [-1529, 48]\n",
    "\n",
    "# 2회차 전 회차 클릭\n",
    "Epi2 = [-1335, 627]\n",
    "\n",
    "# 최신회차가 1회 밖에 없는 경우 대비한 클릭\n",
    "Epi1 = [-1204, 569]\n",
    "\n",
    "# 경고 문구 확인 버튼 클릭 (enter1 : 크롬 , enter2: 크롬드라이버)\n",
    "enter1 = [-874, 244]\n",
    "enter2 = [583, 268]\n",
    "\n",
    "# pyautogui이용한 마우스 클릭 복사 붙여넣기\n",
    "def clipboard():\n",
    "    pyautogui.hotkey('ctrl', 'c')\n",
    "    time.sleep(.1)\n",
    "    return pyperclip.paste()\n",
    "\n",
    "\n",
    "# 입력받은 각 url에 대해 html파싱\n",
    "def scrap_html(url):\n",
    "    request = requests.get(url)\n",
    "    html = request.text\n",
    "    soup = BeautifulSoup(html, 'html.parser')\n",
    "    return soup\n"
   ]
  },
  {
   "cell_type": "markdown",
   "metadata": {},
   "source": [
    "# 웹툰 데이터 스크래핑(10개 : 2개의 row)"
   ]
  },
  {
   "cell_type": "code",
   "execution_count": 3,
   "metadata": {},
   "outputs": [
    {
     "name": "stdout",
     "output_type": "stream",
     "text": [
      "['unOrdinary', 'Superhero', 'uru-chan ', '5M', '9.76', 188296.0, '71183']\n",
      "['The Boxer', 'Sports', 'JH ', '1M', '9.85', 99298.0, '25379']\n",
      "['Omniscient Reader', 'Action', 'sing N song / UMI ...', '1.3M', '9.90', 128832.0, '33756']\n",
      "['The Advanced Player of the Tutorial Tower', 'Action', 'Bangguseok Gimssi / Omagam ...', '815.9K', '9.57', 127201.0, '20145']\n",
      "['Jungle Juice', 'Action', 'HYEONG EUN / JUDER ', '538.8K', '9.82', 149973.0, '30640']\n",
      "Finish\n"
     ]
    }
   ],
   "source": [
    "rows = []\n",
    "# 첫 시작\n",
    "pyautogui.click(first[0], first[1])\n",
    "\n",
    "## 해당 row의 다음 작품 데이터 수집 (반복)\n",
    "\n",
    "for i in range(5):\n",
    "\n",
    "    time.sleep(.5)\n",
    "    pyautogui.click(x[i], y[i])\n",
    "\n",
    "    # 해당 웹툰의 url 추출\n",
    "    pyautogui.tripleClick(url_click[0], url_click[1])\n",
    "    time.sleep(0.5)\n",
    "    url = clipboard()\n",
    "\n",
    "    ## 웹툰 상세 페이지의 제목, 장르, 작가, 구독자 수, 별점, 분량 파싱\n",
    "\n",
    "    toon_info = scrap_html(url).find_all('div', 'info')\n",
    "    toon_info = toon_info[0].text.replace('\\n', ',').replace('\\t', '').split(',')\n",
    "    genre, title, author = toon_info[1], toon_info[2], toon_info[4]\n",
    "\n",
    "\n",
    "    cnt = scrap_html(url).find_all('em', 'cnt')  # 구독자 수, 별점\n",
    "    subscribers_num = cnt[0].text\n",
    "    grade_num = cnt[1].text\n",
    "\n",
    "    ## [베스트댓글 좋아요의 수] 2주 전 최신 회차 클릭 및 url 복사\n",
    "    pyautogui.click(Epi2[0], Epi2[1])\n",
    "\n",
    "    # 최신회차가 1회 밖에 없는 경우 대비한 클릭\n",
    "    pyautogui.click(Epi1[0], Epi1[1])\n",
    "    time.sleep(0.2)\n",
    "\n",
    "    # 경고팝업 클릭_크롬\n",
    "    pyautogui.click(enter1[0], enter1[1])\n",
    "\n",
    "    # 웹툰 회차 url 추출\n",
    "    pyautogui.tripleClick(-1529, 48)\n",
    "    url = clipboard()\n",
    "    time.sleep(0.2)\n",
    "\n",
    "    # 해당 회차의 분량 추출\n",
    "    amount = 0\n",
    "    img_height = scrap_html(url).find_all('img', width=True, height=True)\n",
    "    for i in img_height:\n",
    "        if float(i['width']) > 500:\n",
    "            amount += float(i['height'])\n",
    "    time.sleep(0.5)\n",
    "    amount = round(amount, 1)\n",
    "\n",
    "    row = [title, genre, author, subscribers_num, grade_num, amount]\n",
    "\n",
    "\n",
    "    # 공감수 동적 데이터라서 셀레니움 이용\n",
    "    driver = webdriver.Chrome('./chrome/chromedriver.exe')\n",
    "    driver.get(url)  \n",
    "    pyautogui.click(enter2[0], enter2[1])  # 경고 팝업창 확인 클릭\n",
    "\n",
    "    driver.implicitly_wait(1.5)  #로딩시간 후 베스트 댓글의 좋아요 수를 scrap한다\n",
    "    comments_agree = driver.find_elements_by_css_selector(\n",
    "        'div > div.u_cbox_tool > div > a.u_cbox_btn_recomm > em')[0].text\n",
    "    driver.quit()\n",
    "\n",
    "    row.append(comments_agree)\n",
    "    print(row)\n",
    "\n",
    "    ## 뒤로가기 \n",
    "    pyautogui.doubleClick(backward_loc[0], backward_loc[1], interval=1)\n",
    "\n",
    "## 해당 row모두 수집 후 스크롤 내려서 다음 작품  클릭 \n",
    "for __ in range(5):\n",
    "    pyautogui.click(scroll_down[0], scroll_down[1])\n",
    "    time.sleep(.5)\n",
    "print('Finish')"
   ]
  }
 ],
 "metadata": {
  "kernelspec": {
   "display_name": "Python 3",
   "language": "python",
   "name": "python3"
  },
  "language_info": {
   "codemirror_mode": {
    "name": "ipython",
    "version": 3
   },
   "file_extension": ".py",
   "mimetype": "text/x-python",
   "name": "python",
   "nbconvert_exporter": "python",
   "pygments_lexer": "ipython3",
   "version": "3.7.6"
  },
  "toc": {
   "base_numbering": 1,
   "nav_menu": {},
   "number_sections": true,
   "sideBar": true,
   "skip_h1_title": false,
   "title_cell": "Table of Contents",
   "title_sidebar": "Contents",
   "toc_cell": false,
   "toc_position": {},
   "toc_section_display": true,
   "toc_window_display": false
  },
  "varInspector": {
   "cols": {
    "lenName": 16,
    "lenType": 16,
    "lenVar": 40
   },
   "kernels_config": {
    "python": {
     "delete_cmd_postfix": "",
     "delete_cmd_prefix": "del ",
     "library": "var_list.py",
     "varRefreshCmd": "print(var_dic_list())"
    },
    "r": {
     "delete_cmd_postfix": ") ",
     "delete_cmd_prefix": "rm(",
     "library": "var_list.r",
     "varRefreshCmd": "cat(var_dic_list()) "
    }
   },
   "types_to_exclude": [
    "module",
    "function",
    "builtin_function_or_method",
    "instance",
    "_Feature"
   ],
   "window_display": false
  }
 },
 "nbformat": 4,
 "nbformat_minor": 4
}
