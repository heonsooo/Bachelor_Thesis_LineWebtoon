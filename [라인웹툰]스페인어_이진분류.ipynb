{
 "cells": [
  {
   "cell_type": "code",
   "execution_count": 1,
   "metadata": {},
   "outputs": [],
   "source": [
    "import pandas as pd\n",
    "import matplotlib.pyplot as plt\n",
    "# 윈도우의 한글 폰트 설정\n",
    "plt.rc('font', family = 'Malgun Gothic')\n",
    "\n",
    "# 시각화 그래프가 노트북 안에 보이게 하기\n",
    "%matplotlib inline\n",
    "plt.rcParams['axes.unicode_minus'] = False"
   ]
  },
  {
   "cell_type": "markdown",
   "metadata": {},
   "source": [
    "# 데이터"
   ]
  },
  {
   "cell_type": "code",
   "execution_count": 2,
   "metadata": {
    "scrolled": false
   },
   "outputs": [],
   "source": [
    "#df_sp = pd.read_csv('[스페인어]웹툰데이터.csv',encoding='utf-8')"
   ]
  },
  {
   "cell_type": "markdown",
   "metadata": {},
   "source": [
    "# 스페인어 라벨링"
   ]
  },
  {
   "cell_type": "code",
   "execution_count": 3,
   "metadata": {
    "scrolled": false
   },
   "outputs": [],
   "source": [
    "# df_sp = pd.read_csv('[스페인어]웹툰데이터.csv',encoding='utf-8')\n",
    "\n",
    "# df_sp_s = pd.read_csv('./data/스페인어/Espanol_X_test_standard.csv',encoding='utf-8',index_col=0)\n",
    "# df_sp_s= df_sp_s.append(pd.read_csv('./data/스페인어/Espanol_X_train_standard.csv',encoding='utf-8',index_col=0))\n",
    "# df_sp_s= df_sp_s.sort_index(axis=0)\n",
    "# box = list(df_sp['Comments Likes'].describe())\n",
    "# C4= box[-4]\n",
    "# C3= box[-3] \n",
    "# C2= box[-2] \n",
    "\n",
    "# Class_1 = df_sp[(df_sp['Comments Likes'] > C2  )].index\n",
    "# Class_2 = df_sp[(df_sp['Comments Likes'] <= C2) & (df_sp['Comments Likes'] > C3  )].index\n",
    "# Class_3 = df_sp[(df_sp['Comments Likes'] <= C3) & (df_sp['Comments Likes'] > C4  )].index\n",
    "# Class_4 = df_sp[(df_sp['Comments Likes'] <= C4)].index\n",
    "\n",
    "\n",
    "# df_sp_s.loc[Class_1,'Target']=1\n",
    "# df_sp_s.loc[Class_2,'Target']=2\n",
    "# df_sp_s.loc[Class_3,'Target']=3\n",
    "# df_sp_s.loc[Class_4,'Target']=4\n",
    "\n",
    "# df_sp_s.to_csv('[스페인어]라벨링_스케일링.csv',encoding='utf-8',index=False)"
   ]
  },
  {
   "cell_type": "code",
   "execution_count": 4,
   "metadata": {},
   "outputs": [
    {
     "data": {
      "text/html": [
       "<div>\n",
       "<style scoped>\n",
       "    .dataframe tbody tr th:only-of-type {\n",
       "        vertical-align: middle;\n",
       "    }\n",
       "\n",
       "    .dataframe tbody tr th {\n",
       "        vertical-align: top;\n",
       "    }\n",
       "\n",
       "    .dataframe thead th {\n",
       "        text-align: right;\n",
       "    }\n",
       "</style>\n",
       "<table border=\"1\" class=\"dataframe\">\n",
       "  <thead>\n",
       "    <tr style=\"text-align: right;\">\n",
       "      <th></th>\n",
       "      <th>Webtoon code</th>\n",
       "      <th>Title</th>\n",
       "      <th>Author</th>\n",
       "      <th>Subscribers</th>\n",
       "      <th>Grade</th>\n",
       "      <th>Amount</th>\n",
       "      <th>Total Likes</th>\n",
       "      <th>SJ</th>\n",
       "      <th>GH</th>\n",
       "      <th>ML</th>\n",
       "      <th>...</th>\n",
       "      <th>Thriller</th>\n",
       "      <th>Action</th>\n",
       "      <th>Comedy</th>\n",
       "      <th>Fantasy</th>\n",
       "      <th>romantic-fantasy</th>\n",
       "      <th>Horor</th>\n",
       "      <th>Sports</th>\n",
       "      <th>heartwarming</th>\n",
       "      <th>Comments Likes</th>\n",
       "      <th>Target</th>\n",
       "    </tr>\n",
       "  </thead>\n",
       "  <tbody>\n",
       "    <tr>\n",
       "      <th>0</th>\n",
       "      <td>S1</td>\n",
       "      <td>Cuestión de edad</td>\n",
       "      <td>Enjelicious</td>\n",
       "      <td>0.651066</td>\n",
       "      <td>0.950980</td>\n",
       "      <td>0.429511</td>\n",
       "      <td>0.642143</td>\n",
       "      <td>1</td>\n",
       "      <td>0</td>\n",
       "      <td>0</td>\n",
       "      <td>...</td>\n",
       "      <td>0</td>\n",
       "      <td>0</td>\n",
       "      <td>0</td>\n",
       "      <td>0</td>\n",
       "      <td>0</td>\n",
       "      <td>0</td>\n",
       "      <td>0</td>\n",
       "      <td>0</td>\n",
       "      <td>4.737537</td>\n",
       "      <td>1</td>\n",
       "    </tr>\n",
       "    <tr>\n",
       "      <th>1</th>\n",
       "      <td>S2</td>\n",
       "      <td>Secretos de belleza</td>\n",
       "      <td>Yaongyi</td>\n",
       "      <td>1.000000</td>\n",
       "      <td>0.882353</td>\n",
       "      <td>0.496083</td>\n",
       "      <td>1.000000</td>\n",
       "      <td>0</td>\n",
       "      <td>1</td>\n",
       "      <td>0</td>\n",
       "      <td>...</td>\n",
       "      <td>0</td>\n",
       "      <td>0</td>\n",
       "      <td>0</td>\n",
       "      <td>0</td>\n",
       "      <td>0</td>\n",
       "      <td>0</td>\n",
       "      <td>0</td>\n",
       "      <td>0</td>\n",
       "      <td>3.378596</td>\n",
       "      <td>1</td>\n",
       "    </tr>\n",
       "    <tr>\n",
       "      <th>2</th>\n",
       "      <td>S3</td>\n",
       "      <td>Caída del espacio</td>\n",
       "      <td>Pookie Senpai</td>\n",
       "      <td>0.476600</td>\n",
       "      <td>0.950980</td>\n",
       "      <td>0.287149</td>\n",
       "      <td>0.191146</td>\n",
       "      <td>0</td>\n",
       "      <td>0</td>\n",
       "      <td>0</td>\n",
       "      <td>...</td>\n",
       "      <td>0</td>\n",
       "      <td>0</td>\n",
       "      <td>0</td>\n",
       "      <td>0</td>\n",
       "      <td>0</td>\n",
       "      <td>0</td>\n",
       "      <td>0</td>\n",
       "      <td>0</td>\n",
       "      <td>2.853404</td>\n",
       "      <td>1</td>\n",
       "    </tr>\n",
       "    <tr>\n",
       "      <th>3</th>\n",
       "      <td>S4</td>\n",
       "      <td>Mi secreto más íntimo</td>\n",
       "      <td>Hanza Art</td>\n",
       "      <td>0.607450</td>\n",
       "      <td>0.882353</td>\n",
       "      <td>0.385390</td>\n",
       "      <td>0.387232</td>\n",
       "      <td>1</td>\n",
       "      <td>0</td>\n",
       "      <td>0</td>\n",
       "      <td>...</td>\n",
       "      <td>1</td>\n",
       "      <td>0</td>\n",
       "      <td>0</td>\n",
       "      <td>0</td>\n",
       "      <td>0</td>\n",
       "      <td>0</td>\n",
       "      <td>0</td>\n",
       "      <td>0</td>\n",
       "      <td>2.418215</td>\n",
       "      <td>1</td>\n",
       "    </tr>\n",
       "    <tr>\n",
       "      <th>4</th>\n",
       "      <td>S5</td>\n",
       "      <td>Apuesta de amor</td>\n",
       "      <td>Ingrid Ochoa</td>\n",
       "      <td>0.330309</td>\n",
       "      <td>0.843137</td>\n",
       "      <td>0.246107</td>\n",
       "      <td>0.171537</td>\n",
       "      <td>0</td>\n",
       "      <td>1</td>\n",
       "      <td>0</td>\n",
       "      <td>...</td>\n",
       "      <td>0</td>\n",
       "      <td>0</td>\n",
       "      <td>0</td>\n",
       "      <td>0</td>\n",
       "      <td>0</td>\n",
       "      <td>0</td>\n",
       "      <td>0</td>\n",
       "      <td>1</td>\n",
       "      <td>2.019655</td>\n",
       "      <td>1</td>\n",
       "    </tr>\n",
       "    <tr>\n",
       "      <th>...</th>\n",
       "      <td>...</td>\n",
       "      <td>...</td>\n",
       "      <td>...</td>\n",
       "      <td>...</td>\n",
       "      <td>...</td>\n",
       "      <td>...</td>\n",
       "      <td>...</td>\n",
       "      <td>...</td>\n",
       "      <td>...</td>\n",
       "      <td>...</td>\n",
       "      <td>...</td>\n",
       "      <td>...</td>\n",
       "      <td>...</td>\n",
       "      <td>...</td>\n",
       "      <td>...</td>\n",
       "      <td>...</td>\n",
       "      <td>...</td>\n",
       "      <td>...</td>\n",
       "      <td>...</td>\n",
       "      <td>...</td>\n",
       "      <td>...</td>\n",
       "    </tr>\n",
       "    <tr>\n",
       "      <th>97</th>\n",
       "      <td>S97</td>\n",
       "      <td>Murrz</td>\n",
       "      <td>Murrz</td>\n",
       "      <td>0.076416</td>\n",
       "      <td>0.794118</td>\n",
       "      <td>-0.014048</td>\n",
       "      <td>0.298993</td>\n",
       "      <td>0</td>\n",
       "      <td>0</td>\n",
       "      <td>1</td>\n",
       "      <td>...</td>\n",
       "      <td>0</td>\n",
       "      <td>0</td>\n",
       "      <td>1</td>\n",
       "      <td>0</td>\n",
       "      <td>0</td>\n",
       "      <td>0</td>\n",
       "      <td>0</td>\n",
       "      <td>0</td>\n",
       "      <td>-0.997538</td>\n",
       "      <td>0</td>\n",
       "    </tr>\n",
       "    <tr>\n",
       "      <th>98</th>\n",
       "      <td>S98</td>\n",
       "      <td>Lupe mágica</td>\n",
       "      <td>RoninYorch</td>\n",
       "      <td>0.037423</td>\n",
       "      <td>0.519608</td>\n",
       "      <td>0.055897</td>\n",
       "      <td>0.001042</td>\n",
       "      <td>0</td>\n",
       "      <td>0</td>\n",
       "      <td>1</td>\n",
       "      <td>...</td>\n",
       "      <td>0</td>\n",
       "      <td>1</td>\n",
       "      <td>0</td>\n",
       "      <td>1</td>\n",
       "      <td>0</td>\n",
       "      <td>0</td>\n",
       "      <td>0</td>\n",
       "      <td>0</td>\n",
       "      <td>-1.000852</td>\n",
       "      <td>0</td>\n",
       "    </tr>\n",
       "    <tr>\n",
       "      <th>99</th>\n",
       "      <td>S99</td>\n",
       "      <td>Animal urbano</td>\n",
       "      <td>Justin Jordan / John Amor</td>\n",
       "      <td>0.031230</td>\n",
       "      <td>0.666667</td>\n",
       "      <td>0.278659</td>\n",
       "      <td>0.001464</td>\n",
       "      <td>0</td>\n",
       "      <td>1</td>\n",
       "      <td>0</td>\n",
       "      <td>...</td>\n",
       "      <td>0</td>\n",
       "      <td>1</td>\n",
       "      <td>0</td>\n",
       "      <td>0</td>\n",
       "      <td>0</td>\n",
       "      <td>0</td>\n",
       "      <td>0</td>\n",
       "      <td>0</td>\n",
       "      <td>-1.031900</td>\n",
       "      <td>0</td>\n",
       "    </tr>\n",
       "    <tr>\n",
       "      <th>100</th>\n",
       "      <td>S100</td>\n",
       "      <td>Shiloh</td>\n",
       "      <td>Kit Trace / Kate Flynn</td>\n",
       "      <td>0.000000</td>\n",
       "      <td>0.529412</td>\n",
       "      <td>0.354575</td>\n",
       "      <td>0.000976</td>\n",
       "      <td>0</td>\n",
       "      <td>0</td>\n",
       "      <td>0</td>\n",
       "      <td>...</td>\n",
       "      <td>1</td>\n",
       "      <td>0</td>\n",
       "      <td>0</td>\n",
       "      <td>0</td>\n",
       "      <td>0</td>\n",
       "      <td>1</td>\n",
       "      <td>0</td>\n",
       "      <td>0</td>\n",
       "      <td>-1.063645</td>\n",
       "      <td>0</td>\n",
       "    </tr>\n",
       "    <tr>\n",
       "      <th>101</th>\n",
       "      <td>S101</td>\n",
       "      <td>La Flor del Mar</td>\n",
       "      <td>Luis Castillejos</td>\n",
       "      <td>0.004362</td>\n",
       "      <td>0.539216</td>\n",
       "      <td>0.251572</td>\n",
       "      <td>0.000000</td>\n",
       "      <td>0</td>\n",
       "      <td>0</td>\n",
       "      <td>0</td>\n",
       "      <td>...</td>\n",
       "      <td>0</td>\n",
       "      <td>0</td>\n",
       "      <td>0</td>\n",
       "      <td>1</td>\n",
       "      <td>0</td>\n",
       "      <td>0</td>\n",
       "      <td>0</td>\n",
       "      <td>0</td>\n",
       "      <td>-1.084576</td>\n",
       "      <td>0</td>\n",
       "    </tr>\n",
       "  </tbody>\n",
       "</table>\n",
       "<p>102 rows × 27 columns</p>\n",
       "</div>"
      ],
      "text/plain": [
       "    Webtoon code                  Title                      Author  \\\n",
       "0             S1       Cuestión de edad                Enjelicious    \n",
       "1             S2    Secretos de belleza                    Yaongyi    \n",
       "2             S3      Caída del espacio              Pookie Senpai    \n",
       "3             S4  Mi secreto más íntimo                  Hanza Art    \n",
       "4             S5        Apuesta de amor               Ingrid Ochoa    \n",
       "..           ...                    ...                         ...   \n",
       "97           S97                  Murrz                      Murrz    \n",
       "98           S98            Lupe mágica                 RoninYorch    \n",
       "99           S99          Animal urbano  Justin Jordan / John Amor    \n",
       "100         S100                 Shiloh     Kit Trace / Kate Flynn    \n",
       "101         S101        La Flor del Mar           Luis Castillejos    \n",
       "\n",
       "     Subscribers     Grade    Amount  Total Likes  SJ  GH  ML  ...  Thriller  \\\n",
       "0       0.651066  0.950980  0.429511     0.642143   1   0   0  ...         0   \n",
       "1       1.000000  0.882353  0.496083     1.000000   0   1   0  ...         0   \n",
       "2       0.476600  0.950980  0.287149     0.191146   0   0   0  ...         0   \n",
       "3       0.607450  0.882353  0.385390     0.387232   1   0   0  ...         1   \n",
       "4       0.330309  0.843137  0.246107     0.171537   0   1   0  ...         0   \n",
       "..           ...       ...       ...          ...  ..  ..  ..  ...       ...   \n",
       "97      0.076416  0.794118 -0.014048     0.298993   0   0   1  ...         0   \n",
       "98      0.037423  0.519608  0.055897     0.001042   0   0   1  ...         0   \n",
       "99      0.031230  0.666667  0.278659     0.001464   0   1   0  ...         0   \n",
       "100     0.000000  0.529412  0.354575     0.000976   0   0   0  ...         1   \n",
       "101     0.004362  0.539216  0.251572     0.000000   0   0   0  ...         0   \n",
       "\n",
       "     Action  Comedy  Fantasy  romantic-fantasy  Horor  Sports  heartwarming  \\\n",
       "0         0       0        0                 0      0       0             0   \n",
       "1         0       0        0                 0      0       0             0   \n",
       "2         0       0        0                 0      0       0             0   \n",
       "3         0       0        0                 0      0       0             0   \n",
       "4         0       0        0                 0      0       0             1   \n",
       "..      ...     ...      ...               ...    ...     ...           ...   \n",
       "97        0       1        0                 0      0       0             0   \n",
       "98        1       0        1                 0      0       0             0   \n",
       "99        1       0        0                 0      0       0             0   \n",
       "100       0       0        0                 0      1       0             0   \n",
       "101       0       0        1                 0      0       0             0   \n",
       "\n",
       "     Comments Likes  Target  \n",
       "0          4.737537       1  \n",
       "1          3.378596       1  \n",
       "2          2.853404       1  \n",
       "3          2.418215       1  \n",
       "4          2.019655       1  \n",
       "..              ...     ...  \n",
       "97        -0.997538       0  \n",
       "98        -1.000852       0  \n",
       "99        -1.031900       0  \n",
       "100       -1.063645       0  \n",
       "101       -1.084576       0  \n",
       "\n",
       "[102 rows x 27 columns]"
      ]
     },
     "execution_count": 4,
     "metadata": {},
     "output_type": "execute_result"
    }
   ],
   "source": [
    "df_sp_s = pd.read_csv('./data/[스페인어]라벨링_스케일링_이진.csv')\n",
    "df_sp_s"
   ]
  },
  {
   "cell_type": "code",
   "execution_count": 5,
   "metadata": {},
   "outputs": [],
   "source": [
    "from sklearn.model_selection import train_test_split\n",
    "header = []\n",
    "for i in df_sp_s:\n",
    "    header.append(i)\n",
    "\n",
    "    x = df_sp_s[header[3:-1]]\n",
    "    y = df_sp_s[header[-1]]  #데이터셋 분류: x=input variable, y=output variable\n",
    "\n",
    "    X_train, X_test, y_train, y_test = train_test_split(\n",
    "        x, y, test_size=0.3, random_state=42)  #데이터셋 학습용/테스트용 나눔"
   ]
  },
  {
   "cell_type": "markdown",
   "metadata": {},
   "source": [
    "## 예측 데이터"
   ]
  },
  {
   "cell_type": "code",
   "execution_count": 6,
   "metadata": {},
   "outputs": [],
   "source": [
    "df_en_s= pd.read_csv('./test/영어_공통웹툰_es타겟.csv',encoding='utf-8')\n",
    "X0_test = df_en_s[df_en_s.columns[1:-1]]\n",
    "y0_test = df_en_s[df_en_s.columns[-1]]\n",
    "\n",
    "df_id_s = pd.read_csv('./test/인도네시아어_공통웹툰_es타겟.csv',encoding='utf-8')\n",
    "X1_test = df_id_s[df_id_s.columns[1:-1]]\n",
    "y1_test = df_id_s[df_id_s.columns[-1]]"
   ]
  },
  {
   "cell_type": "markdown",
   "metadata": {},
   "source": [
    "# 이진분류\n",
    "## 1. 로지스틱회귀 이진분류"
   ]
  },
  {
   "cell_type": "code",
   "execution_count": 7,
   "metadata": {
    "scrolled": true
   },
   "outputs": [
    {
     "name": "stdout",
     "output_type": "stream",
     "text": [
      "[분류 결과] \n",
      " [1 0 0 1 1 1 0 0 1 1 0 0 0 0 0 1 0 0 1 1 0 0 1 0 0 0 1 0 1 1 0]\n",
      "\n",
      " 테스트 정확도 : 0.8387096774193549\n",
      "\n",
      "영어-> 스페인어 테스트 정확도 : 0.8571428571428571\n",
      "\n",
      "인도네시아어-> 스페인어 테스트 정확도 : 0.5\n"
     ]
    }
   ],
   "source": [
    "from sklearn.linear_model import LogisticRegression #로지스틱회귀\n",
    "model = LogisticRegression() \n",
    "\n",
    "#분류 모델 학습 \n",
    "model.fit(X_train, y_train)  \n",
    "\n",
    "#분류 결과\n",
    "print('[분류 결과] \\n', model.predict(X_test)) \n",
    "print('\\n 테스트 정확도 :', model.score(X_test, y_test))  \n",
    "logist = model.score(X_test, y_test)\n",
    "\n",
    "\n",
    "print('\\n영어-> 스페인어 테스트 정확도 :', model.score(X0_test, y0_test))  \n",
    "logist_pred0 = model.score(X0_test, y0_test)\n",
    "\n",
    "print('\\n인도네시아어-> 스페인어 테스트 정확도 :', model.score(X1_test, y1_test))  \n",
    "logist_pred1 = model.score(X1_test, y1_test)"
   ]
  },
  {
   "cell_type": "code",
   "execution_count": 8,
   "metadata": {
    "scrolled": false
   },
   "outputs": [
    {
     "data": {
      "text/html": [
       "<div>\n",
       "<style scoped>\n",
       "    .dataframe tbody tr th:only-of-type {\n",
       "        vertical-align: middle;\n",
       "    }\n",
       "\n",
       "    .dataframe tbody tr th {\n",
       "        vertical-align: top;\n",
       "    }\n",
       "\n",
       "    .dataframe thead th {\n",
       "        text-align: right;\n",
       "    }\n",
       "</style>\n",
       "<table border=\"1\" class=\"dataframe\">\n",
       "  <thead>\n",
       "    <tr style=\"text-align: right;\">\n",
       "      <th></th>\n",
       "      <th>Coef</th>\n",
       "    </tr>\n",
       "  </thead>\n",
       "  <tbody>\n",
       "    <tr>\n",
       "      <th>Comments Likes</th>\n",
       "      <td>1.875993</td>\n",
       "    </tr>\n",
       "    <tr>\n",
       "      <th>SJ</th>\n",
       "      <td>0.961417</td>\n",
       "    </tr>\n",
       "    <tr>\n",
       "      <th>Subscribers</th>\n",
       "      <td>0.559107</td>\n",
       "    </tr>\n",
       "    <tr>\n",
       "      <th>Amount</th>\n",
       "      <td>0.466012</td>\n",
       "    </tr>\n",
       "    <tr>\n",
       "      <th>ML</th>\n",
       "      <td>0.456583</td>\n",
       "    </tr>\n",
       "    <tr>\n",
       "      <th>Total Likes</th>\n",
       "      <td>0.429413</td>\n",
       "    </tr>\n",
       "    <tr>\n",
       "      <th>Grade</th>\n",
       "      <td>0.410872</td>\n",
       "    </tr>\n",
       "    <tr>\n",
       "      <th>Romance</th>\n",
       "      <td>0.288175</td>\n",
       "    </tr>\n",
       "    <tr>\n",
       "      <th>Supernatural</th>\n",
       "      <td>0.250805</td>\n",
       "    </tr>\n",
       "    <tr>\n",
       "      <th>Drama</th>\n",
       "      <td>0.211783</td>\n",
       "    </tr>\n",
       "    <tr>\n",
       "      <th>Fantasy</th>\n",
       "      <td>0.093608</td>\n",
       "    </tr>\n",
       "    <tr>\n",
       "      <th>heartwarming</th>\n",
       "      <td>0.043193</td>\n",
       "    </tr>\n",
       "    <tr>\n",
       "      <th>Sci-fi</th>\n",
       "      <td>0.000000</td>\n",
       "    </tr>\n",
       "    <tr>\n",
       "      <th>Superhero</th>\n",
       "      <td>0.000000</td>\n",
       "    </tr>\n",
       "    <tr>\n",
       "      <th>romantic-fantasy</th>\n",
       "      <td>0.000000</td>\n",
       "    </tr>\n",
       "    <tr>\n",
       "      <th>Sports</th>\n",
       "      <td>-0.096051</td>\n",
       "    </tr>\n",
       "    <tr>\n",
       "      <th>Action</th>\n",
       "      <td>-0.109423</td>\n",
       "    </tr>\n",
       "    <tr>\n",
       "      <th>Horor</th>\n",
       "      <td>-0.144214</td>\n",
       "    </tr>\n",
       "    <tr>\n",
       "      <th>Slice of life</th>\n",
       "      <td>-0.170684</td>\n",
       "    </tr>\n",
       "    <tr>\n",
       "      <th>Thriller</th>\n",
       "      <td>-0.382080</td>\n",
       "    </tr>\n",
       "    <tr>\n",
       "      <th>GH</th>\n",
       "      <td>-0.559709</td>\n",
       "    </tr>\n",
       "    <tr>\n",
       "      <th>Comedy</th>\n",
       "      <td>-0.754641</td>\n",
       "    </tr>\n",
       "    <tr>\n",
       "      <th>KA</th>\n",
       "      <td>-0.858221</td>\n",
       "    </tr>\n",
       "  </tbody>\n",
       "</table>\n",
       "</div>"
      ],
      "text/plain": [
       "                      Coef\n",
       "Comments Likes    1.875993\n",
       "SJ                0.961417\n",
       "Subscribers       0.559107\n",
       "Amount            0.466012\n",
       "ML                0.456583\n",
       "Total Likes       0.429413\n",
       "Grade             0.410872\n",
       "Romance           0.288175\n",
       "Supernatural      0.250805\n",
       "Drama             0.211783\n",
       "Fantasy           0.093608\n",
       "heartwarming      0.043193\n",
       "Sci-fi            0.000000\n",
       "Superhero         0.000000\n",
       "romantic-fantasy  0.000000\n",
       "Sports           -0.096051\n",
       "Action           -0.109423\n",
       "Horor            -0.144214\n",
       "Slice of life    -0.170684\n",
       "Thriller         -0.382080\n",
       "GH               -0.559709\n",
       "Comedy           -0.754641\n",
       "KA               -0.858221"
      ]
     },
     "execution_count": 8,
     "metadata": {},
     "output_type": "execute_result"
    },
    {
     "data": {
      "image/png": "[encoded data removed]",
      "text/plain": [
       "<Figure size 432x288 with 1 Axes>"
      ]
     },
     "metadata": {
      "needs_background": "light"
     },
     "output_type": "display_data"
    }
   ],
   "source": [
    "df_LG = pd.DataFrame(model.coef_[0], columns=['Coef'], index= X_test.columns ).sort_values(by='Coef')\n",
    "df_LG.plot(kind = 'barh')\n",
    "df_LG.sort_values(by='Coef', ascending = False)"
   ]
  },
  {
   "cell_type": "markdown",
   "metadata": {},
   "source": [
    "## Confusion Matrix & Performances"
   ]
  },
  {
   "cell_type": "code",
   "execution_count": 9,
   "metadata": {},
   "outputs": [],
   "source": [
    "from sklearn.metrics import confusion_matrix\n",
    "from sklearn.metrics import plot_confusion_matrix\n",
    "import seaborn as sns\n",
    "from sklearn.metrics import accuracy_score, precision_score,recall_score,f1_score\n",
    "def confusion_matrix_lan(X_test, y_test,lan1,lan2):\n",
    "    y_true = list(y_test)\n",
    "    y_pred = model.predict(X_test)\n",
    "    confusion_matrix(y_true, y_pred)\n",
    "\n",
    "\n",
    "    cm = confusion_matrix(y_test, y_pred) \n",
    "\n",
    "    # Transform to df for easier plotting\n",
    "    cm_df = pd.DataFrame(cm,\n",
    "                         index = ['상위50%','하위50%'], \n",
    "                         columns = ['상위50%','하위50%'])\n",
    "\n",
    "    plt.figure(figsize=(5.5,4))\n",
    "    sns.heatmap(cm_df, annot=True)\n",
    "    plt.title(lan1+ '-> '+lan2 +' \\nAccuracy:{0:.3f}'.format(accuracy_score(y_test, y_pred)))\n",
    "    plt.ylabel('True label')\n",
    "    plt.xlabel('Predicted label')\n",
    "    plt.show()\n",
    "\n",
    "    print( 'Accuracy : {:.3f} \\nPrecision : {:.3f} \\nRecall : {:.3f} \\nF1_score: {:.3f} '.format(accuracy_score(y_test, y_pred),\n",
    "          precision_score(y_test, y_pred),\n",
    "          recall_score(y_test, y_pred) ,\n",
    "          f1_score(y_test, y_pred)  ))"
   ]
  },
  {
   "cell_type": "code",
   "execution_count": 10,
   "metadata": {},
   "outputs": [
    {
     "data": {
      "image/png": "[encoded data removed]",
      "text/plain": [
       "<Figure size 432x288 with 2 Axes>"
      ]
     },
     "metadata": {
      "needs_background": "light"
     },
     "output_type": "display_data"
    },
    {
     "data": {
      "image/png": "[encoded data removed]",
      "text/plain": [
       "<Figure size 396x288 with 2 Axes>"
      ]
     },
     "metadata": {
      "needs_background": "light"
     },
     "output_type": "display_data"
    },
    {
     "name": "stdout",
     "output_type": "stream",
     "text": [
      "Accuracy : 0.857 \n",
      "Precision : 1.000 \n",
      "Recall : 0.800 \n",
      "F1_score: 0.889 \n"
     ]
    },
    {
     "data": {
      "image/png": "[encoded data removed]",
      "text/plain": [
       "<Figure size 396x288 with 2 Axes>"
      ]
     },
     "metadata": {
      "needs_background": "light"
     },
     "output_type": "display_data"
    },
    {
     "name": "stdout",
     "output_type": "stream",
     "text": [
      "Accuracy : 0.500 \n",
      "Precision : 0.714 \n",
      "Recall : 0.500 \n",
      "F1_score: 0.588 \n"
     ]
    }
   ],
   "source": [
    "plot_confusion_matrix(model, X_test, y_test, display_labels= ['상위50%', '하위 50%'])  \n",
    "confusion_matrix_lan(X0_test, y0_test,'영어','스페인어')\n",
    "confusion_matrix_lan(X1_test, y1_test,'인도네시아어','스페인어')"
   ]
  },
  {
   "cell_type": "markdown",
   "metadata": {},
   "source": [
    "## KNN "
   ]
  },
  {
   "cell_type": "code",
   "execution_count": 11,
   "metadata": {},
   "outputs": [
    {
     "data": {
      "text/plain": [
       "[<matplotlib.lines.Line2D at 0x1dc76ca7a88>]"
      ]
     },
     "execution_count": 11,
     "metadata": {},
     "output_type": "execute_result"
    },
    {
     "data": {
      "image/png": "[encoded data removed]",
      "text/plain": [
       "<Figure size 432x288 with 1 Axes>"
      ]
     },
     "metadata": {
      "needs_background": "light"
     },
     "output_type": "display_data"
    }
   ],
   "source": [
    "from sklearn.neighbors import KNeighborsClassifier\n",
    "\n",
    "#model = KNeighborsClassifier(n_neighbors=4)\n",
    "#model.fit(X_train, y_train)  \n",
    "#print('[분류 결과] \\n', model.predict(X_test)) \n",
    "k = 30\n",
    "scores = []\n",
    "for i in range(1,k):\n",
    "    model = KNeighborsClassifier(n_neighbors=i)\n",
    "    model.fit(X_train, y_train)\n",
    "    score = model.score(X_test, y_test)\n",
    "    #print('\\n [테스트 정확도] :', score)  \n",
    "    scores.append(score)\n",
    "# print(model.predict_proba(X_test))\n",
    "K = scores.index(max(scores))+1\n",
    "plt.plot([i for i in range(1,k)], scores)"
   ]
  },
  {
   "cell_type": "code",
   "execution_count": 12,
   "metadata": {
    "scrolled": true
   },
   "outputs": [
    {
     "name": "stdout",
     "output_type": "stream",
     "text": [
      "[분류 결과] \n",
      " [1 0 0 1 1 1 0 0 1 1 1 1 0 0 0 1 0 0 1 1 0 0 1 0 0 0 1 0 1 1 0]\n",
      "\n",
      " [테스트 정확도] : 0.9032258064516129\n",
      "\n",
      "영어-> 스페인어 테스트 정확도 : 0.7857142857142857\n",
      "\n",
      "인도네시아어-> 스페인어 테스트 정확도 : 0.5714285714285714\n"
     ]
    }
   ],
   "source": [
    "from sklearn.neighbors import KNeighborsClassifier\n",
    "model = KNeighborsClassifier(n_neighbors=K)\n",
    "model.fit(X_train, y_train)\n",
    "\n",
    "#print(model.predict_proba(X_test))\n",
    "print('[분류 결과] \\n', model.predict(X_test)) \n",
    "print('\\n [테스트 정확도] :', model.score(X_test, y_test))  \n",
    "# model.predict(xx_test)\n",
    "knn = model.score(X_test, y_test)\n",
    "\n",
    "\n",
    "\n",
    "print('\\n영어-> 스페인어 테스트 정확도 :', model.score(X0_test, y0_test))  \n",
    "knn_pred0 = model.score(X0_test, y0_test)\n",
    "\n",
    "print('\\n인도네시아어-> 스페인어 테스트 정확도 :', model.score(X1_test, y1_test))  \n",
    "knn_pred1 = model.score(X1_test, y1_test)"
   ]
  },
  {
   "cell_type": "code",
   "execution_count": 13,
   "metadata": {},
   "outputs": [
    {
     "data": {
      "image/png": "[encoded data removed]",
      "text/plain": [
       "<Figure size 432x288 with 2 Axes>"
      ]
     },
     "metadata": {
      "needs_background": "light"
     },
     "output_type": "display_data"
    },
    {
     "data": {
      "image/png": "[encoded data removed]",
      "text/plain": [
       "<Figure size 396x288 with 2 Axes>"
      ]
     },
     "metadata": {
      "needs_background": "light"
     },
     "output_type": "display_data"
    },
    {
     "name": "stdout",
     "output_type": "stream",
     "text": [
      "Accuracy : 0.786 \n",
      "Precision : 0.889 \n",
      "Recall : 0.800 \n",
      "F1_score: 0.842 \n"
     ]
    },
    {
     "data": {
      "image/png": "[encoded data removed]",
      "text/plain": [
       "<Figure size 396x288 with 2 Axes>"
      ]
     },
     "metadata": {
      "needs_background": "light"
     },
     "output_type": "display_data"
    },
    {
     "name": "stdout",
     "output_type": "stream",
     "text": [
      "Accuracy : 0.571 \n",
      "Precision : 0.833 \n",
      "Recall : 0.500 \n",
      "F1_score: 0.625 \n"
     ]
    }
   ],
   "source": [
    "plot_confusion_matrix(model, X_test, y_test, display_labels= ['상위50%', '하위 50%'])  \n",
    "confusion_matrix_lan(X0_test, y0_test,'영어','스페인어')\n",
    "confusion_matrix_lan(X1_test, y1_test,'인도네시아어','스페인어')"
   ]
  },
  {
   "cell_type": "markdown",
   "metadata": {},
   "source": [
    "## RandomForest"
   ]
  },
  {
   "cell_type": "code",
   "execution_count": 14,
   "metadata": {},
   "outputs": [
    {
     "name": "stdout",
     "output_type": "stream",
     "text": [
      "[분류 결과] \n",
      " [1 0 0 1 1 1 0 0 1 1 0 1 0 0 0 1 0 1 1 1 0 0 1 0 0 0 1 0 1 1 0]\n",
      "\n",
      " [테스트 정확도] : 0.9032258064516129\n",
      "\n",
      "영어-> 스페인어 테스트 정확도 : 0.7142857142857143\n",
      "\n",
      "인도네시아어-> 스페인어 테스트 정확도 : 0.42857142857142855\n"
     ]
    }
   ],
   "source": [
    "from sklearn.ensemble import RandomForestClassifier\n",
    "from sklearn.datasets import make_classification\n",
    "model = RandomForestClassifier(max_depth=2, random_state=0)\n",
    "model.fit(X_train, y_train)\n",
    "\n",
    "#print(model.predict_proba(X_test))\n",
    "print('[분류 결과] \\n', model.predict(X_test)) \n",
    "print('\\n [테스트 정확도] :', model.score(X_test, y_test))  \n",
    "\n",
    "RF = model.score(X_test, y_test)\n",
    "# print('스페인어 분류 예측:', model.predict(xx_test))\n",
    "\n",
    "\n",
    "print('\\n영어-> 스페인어 테스트 정확도 :', model.score(X0_test, y0_test))  \n",
    "RF_pred0 = model.score(X0_test, y0_test)\n",
    "\n",
    "print('\\n인도네시아어-> 스페인어 테스트 정확도 :', model.score(X1_test, y1_test))  \n",
    "RF_pred1 = model.score(X1_test, y1_test)"
   ]
  },
  {
   "cell_type": "code",
   "execution_count": 15,
   "metadata": {},
   "outputs": [
    {
     "data": {
      "text/html": [
       "<div>\n",
       "<style scoped>\n",
       "    .dataframe tbody tr th:only-of-type {\n",
       "        vertical-align: middle;\n",
       "    }\n",
       "\n",
       "    .dataframe tbody tr th {\n",
       "        vertical-align: top;\n",
       "    }\n",
       "\n",
       "    .dataframe thead th {\n",
       "        text-align: right;\n",
       "    }\n",
       "</style>\n",
       "<table border=\"1\" class=\"dataframe\">\n",
       "  <thead>\n",
       "    <tr style=\"text-align: right;\">\n",
       "      <th></th>\n",
       "      <th>Importance</th>\n",
       "    </tr>\n",
       "  </thead>\n",
       "  <tbody>\n",
       "    <tr>\n",
       "      <th>Comments Likes</th>\n",
       "      <td>0.326926</td>\n",
       "    </tr>\n",
       "    <tr>\n",
       "      <th>Subscribers</th>\n",
       "      <td>0.152934</td>\n",
       "    </tr>\n",
       "    <tr>\n",
       "      <th>SJ</th>\n",
       "      <td>0.116608</td>\n",
       "    </tr>\n",
       "    <tr>\n",
       "      <th>Grade</th>\n",
       "      <td>0.112776</td>\n",
       "    </tr>\n",
       "    <tr>\n",
       "      <th>Amount</th>\n",
       "      <td>0.084333</td>\n",
       "    </tr>\n",
       "    <tr>\n",
       "      <th>Total Likes</th>\n",
       "      <td>0.050513</td>\n",
       "    </tr>\n",
       "    <tr>\n",
       "      <th>KA</th>\n",
       "      <td>0.036944</td>\n",
       "    </tr>\n",
       "    <tr>\n",
       "      <th>Romance</th>\n",
       "      <td>0.021721</td>\n",
       "    </tr>\n",
       "    <tr>\n",
       "      <th>Comedy</th>\n",
       "      <td>0.021032</td>\n",
       "    </tr>\n",
       "    <tr>\n",
       "      <th>GH</th>\n",
       "      <td>0.020110</td>\n",
       "    </tr>\n",
       "    <tr>\n",
       "      <th>Slice of life</th>\n",
       "      <td>0.018366</td>\n",
       "    </tr>\n",
       "    <tr>\n",
       "      <th>Drama</th>\n",
       "      <td>0.012480</td>\n",
       "    </tr>\n",
       "    <tr>\n",
       "      <th>ML</th>\n",
       "      <td>0.010539</td>\n",
       "    </tr>\n",
       "    <tr>\n",
       "      <th>Action</th>\n",
       "      <td>0.005544</td>\n",
       "    </tr>\n",
       "    <tr>\n",
       "      <th>Thriller</th>\n",
       "      <td>0.004446</td>\n",
       "    </tr>\n",
       "    <tr>\n",
       "      <th>Fantasy</th>\n",
       "      <td>0.002193</td>\n",
       "    </tr>\n",
       "    <tr>\n",
       "      <th>heartwarming</th>\n",
       "      <td>0.001259</td>\n",
       "    </tr>\n",
       "    <tr>\n",
       "      <th>Supernatural</th>\n",
       "      <td>0.000715</td>\n",
       "    </tr>\n",
       "    <tr>\n",
       "      <th>Sports</th>\n",
       "      <td>0.000335</td>\n",
       "    </tr>\n",
       "    <tr>\n",
       "      <th>Horor</th>\n",
       "      <td>0.000227</td>\n",
       "    </tr>\n",
       "    <tr>\n",
       "      <th>romantic-fantasy</th>\n",
       "      <td>0.000000</td>\n",
       "    </tr>\n",
       "    <tr>\n",
       "      <th>Sci-fi</th>\n",
       "      <td>0.000000</td>\n",
       "    </tr>\n",
       "    <tr>\n",
       "      <th>Superhero</th>\n",
       "      <td>0.000000</td>\n",
       "    </tr>\n",
       "  </tbody>\n",
       "</table>\n",
       "</div>"
      ],
      "text/plain": [
       "                  Importance\n",
       "Comments Likes      0.326926\n",
       "Subscribers         0.152934\n",
       "SJ                  0.116608\n",
       "Grade               0.112776\n",
       "Amount              0.084333\n",
       "Total Likes         0.050513\n",
       "KA                  0.036944\n",
       "Romance             0.021721\n",
       "Comedy              0.021032\n",
       "GH                  0.020110\n",
       "Slice of life       0.018366\n",
       "Drama               0.012480\n",
       "ML                  0.010539\n",
       "Action              0.005544\n",
       "Thriller            0.004446\n",
       "Fantasy             0.002193\n",
       "heartwarming        0.001259\n",
       "Supernatural        0.000715\n",
       "Sports              0.000335\n",
       "Horor               0.000227\n",
       "romantic-fantasy    0.000000\n",
       "Sci-fi              0.000000\n",
       "Superhero           0.000000"
      ]
     },
     "execution_count": 15,
     "metadata": {},
     "output_type": "execute_result"
    },
    {
     "data": {
      "image/png": "[encoded data removed]",
      "text/plain": [
       "<Figure size 432x288 with 1 Axes>"
      ]
     },
     "metadata": {
      "needs_background": "light"
     },
     "output_type": "display_data"
    }
   ],
   "source": [
    "df_RF = pd.DataFrame(model.feature_importances_,\n",
    "             columns=['Importance'], index = X_test.columns).sort_values(by='Importance')\n",
    "df_RF.plot(kind='barh' ,sort_columns ='Importance' )\n",
    "df_RF.sort_values(by='Importance', ascending = False)"
   ]
  },
  {
   "cell_type": "code",
   "execution_count": 16,
   "metadata": {},
   "outputs": [
    {
     "data": {
      "image/png": "[encoded data removed]",
      "text/plain": [
       "<Figure size 432x288 with 2 Axes>"
      ]
     },
     "metadata": {
      "needs_background": "light"
     },
     "output_type": "display_data"
    },
    {
     "data": {
      "image/png": "[encoded data removed]",
      "text/plain": [
       "<Figure size 396x288 with 2 Axes>"
      ]
     },
     "metadata": {
      "needs_background": "light"
     },
     "output_type": "display_data"
    },
    {
     "name": "stdout",
     "output_type": "stream",
     "text": [
      "Accuracy : 0.714 \n",
      "Precision : 0.875 \n",
      "Recall : 0.700 \n",
      "F1_score: 0.778 \n"
     ]
    },
    {
     "data": {
      "image/png": "[encoded data removed]",
      "text/plain": [
       "<Figure size 396x288 with 2 Axes>"
      ]
     },
     "metadata": {
      "needs_background": "light"
     },
     "output_type": "display_data"
    },
    {
     "name": "stdout",
     "output_type": "stream",
     "text": [
      "Accuracy : 0.429 \n",
      "Precision : 0.600 \n",
      "Recall : 0.600 \n",
      "F1_score: 0.600 \n"
     ]
    }
   ],
   "source": [
    "plot_confusion_matrix(model, X_test, y_test, display_labels= ['상위50%', '하위 50%'])  \n",
    "confusion_matrix_lan(X0_test, y0_test,'영어','스페인어')\n",
    "confusion_matrix_lan(X1_test, y1_test,'인도네시아어','스페인어')"
   ]
  },
  {
   "cell_type": "code",
   "execution_count": null,
   "metadata": {},
   "outputs": [],
   "source": []
  },
  {
   "cell_type": "markdown",
   "metadata": {},
   "source": [
    "## SVM - SVC"
   ]
  },
  {
   "cell_type": "code",
   "execution_count": 17,
   "metadata": {},
   "outputs": [
    {
     "name": "stdout",
     "output_type": "stream",
     "text": [
      "[분류 결과] \n",
      " [1 0 0 1 1 1 0 0 1 1 1 0 0 0 0 1 0 0 1 1 0 1 1 0 0 0 1 0 1 1 0]\n",
      "\n",
      " 테스트 정확도 : 0.8387096774193549\n",
      "\n",
      "영어-> 스페인어 테스트 정확도 : 0.8571428571428571\n",
      "\n",
      "인도네시아어-> 스페인어 테스트 정확도 : 0.5\n"
     ]
    }
   ],
   "source": [
    "from sklearn.svm import SVC #Ridge\n",
    "model = SVC(random_state=42)\n",
    " \n",
    "\n",
    "#분류 모델 학습 \n",
    "model.fit(X_train, y_train)  \n",
    "\n",
    "#분류 결과\n",
    "print('[분류 결과] \\n', model.predict(X_test)) \n",
    "print('\\n 테스트 정확도 :', model.score(X_test, y_test))  \n",
    "SVM= model.score(X_test, y_test)\n",
    "\n",
    "print('\\n영어-> 스페인어 테스트 정확도 :', model.score(X0_test, y0_test))  \n",
    "SVM_pred0 = model.score(X0_test, y0_test)\n",
    "\n",
    "print('\\n인도네시아어-> 스페인어 테스트 정확도 :', model.score(X1_test, y1_test))  \n",
    "SVM_pred1 = model.score(X1_test, y1_test)"
   ]
  },
  {
   "cell_type": "code",
   "execution_count": 18,
   "metadata": {},
   "outputs": [
    {
     "data": {
      "image/png": "[encoded data removed]",
      "text/plain": [
       "<Figure size 432x288 with 2 Axes>"
      ]
     },
     "metadata": {
      "needs_background": "light"
     },
     "output_type": "display_data"
    },
    {
     "data": {
      "image/png": "[encoded data removed]",
      "text/plain": [
       "<Figure size 396x288 with 2 Axes>"
      ]
     },
     "metadata": {
      "needs_background": "light"
     },
     "output_type": "display_data"
    },
    {
     "name": "stdout",
     "output_type": "stream",
     "text": [
      "Accuracy : 0.857 \n",
      "Precision : 0.900 \n",
      "Recall : 0.900 \n",
      "F1_score: 0.900 \n"
     ]
    },
    {
     "data": {
      "image/png": "[encoded data removed]",
      "text/plain": [
       "<Figure size 396x288 with 2 Axes>"
      ]
     },
     "metadata": {
      "needs_background": "light"
     },
     "output_type": "display_data"
    },
    {
     "name": "stdout",
     "output_type": "stream",
     "text": [
      "Accuracy : 0.500 \n",
      "Precision : 0.667 \n",
      "Recall : 0.600 \n",
      "F1_score: 0.632 \n"
     ]
    }
   ],
   "source": [
    "plot_confusion_matrix(model, X_test, y_test, display_labels= ['상위50%', '하위 50%'])  \n",
    "confusion_matrix_lan(X0_test, y0_test,'영어','스페인어')\n",
    "confusion_matrix_lan(X1_test, y1_test,'인도네시아어','스페인어')"
   ]
  },
  {
   "cell_type": "markdown",
   "metadata": {},
   "source": [
    "# Models Evaluation \n",
    "## 스페인에 자체"
   ]
  },
  {
   "cell_type": "code",
   "execution_count": 19,
   "metadata": {
    "scrolled": false
   },
   "outputs": [
    {
     "data": {
      "image/png": "[encoded data removed]",
      "text/plain": [
       "<Figure size 432x288 with 1 Axes>"
      ]
     },
     "metadata": {
      "needs_background": "light"
     },
     "output_type": "display_data"
    },
    {
     "data": {
      "text/html": [
       "<div>\n",
       "<style scoped>\n",
       "    .dataframe tbody tr th:only-of-type {\n",
       "        vertical-align: middle;\n",
       "    }\n",
       "\n",
       "    .dataframe tbody tr th {\n",
       "        vertical-align: top;\n",
       "    }\n",
       "\n",
       "    .dataframe thead th {\n",
       "        text-align: right;\n",
       "    }\n",
       "</style>\n",
       "<table border=\"1\" class=\"dataframe\">\n",
       "  <thead>\n",
       "    <tr style=\"text-align: right;\">\n",
       "      <th></th>\n",
       "      <th>Accuracy</th>\n",
       "    </tr>\n",
       "  </thead>\n",
       "  <tbody>\n",
       "    <tr>\n",
       "      <th>Logistic</th>\n",
       "      <td>0.838710</td>\n",
       "    </tr>\n",
       "    <tr>\n",
       "      <th>KNN</th>\n",
       "      <td>0.903226</td>\n",
       "    </tr>\n",
       "    <tr>\n",
       "      <th>Random Forest</th>\n",
       "      <td>0.903226</td>\n",
       "    </tr>\n",
       "    <tr>\n",
       "      <th>SVM</th>\n",
       "      <td>0.838710</td>\n",
       "    </tr>\n",
       "  </tbody>\n",
       "</table>\n",
       "</div>"
      ],
      "text/plain": [
       "               Accuracy\n",
       "Logistic       0.838710\n",
       "KNN            0.903226\n",
       "Random Forest  0.903226\n",
       "SVM            0.838710"
      ]
     },
     "execution_count": 19,
     "metadata": {},
     "output_type": "execute_result"
    }
   ],
   "source": [
    "model_score=[logist,knn,RF, SVM]\n",
    "models= ['Logistic','KNN','Random Forest','SVM']\n",
    "\n",
    "plt.barh(models,model_score)\n",
    "plt.show()\n",
    "pd.DataFrame(model_score,index= models ,columns=['Accuracy'])"
   ]
  },
  {
   "cell_type": "markdown",
   "metadata": {},
   "source": [
    "## 영어-> 스페인어"
   ]
  },
  {
   "cell_type": "code",
   "execution_count": 20,
   "metadata": {
    "scrolled": false
   },
   "outputs": [
    {
     "data": {
      "image/png": "[encoded data removed]",
      "text/plain": [
       "<Figure size 432x288 with 1 Axes>"
      ]
     },
     "metadata": {
      "needs_background": "light"
     },
     "output_type": "display_data"
    },
    {
     "data": {
      "text/html": [
       "<div>\n",
       "<style scoped>\n",
       "    .dataframe tbody tr th:only-of-type {\n",
       "        vertical-align: middle;\n",
       "    }\n",
       "\n",
       "    .dataframe tbody tr th {\n",
       "        vertical-align: top;\n",
       "    }\n",
       "\n",
       "    .dataframe thead th {\n",
       "        text-align: right;\n",
       "    }\n",
       "</style>\n",
       "<table border=\"1\" class=\"dataframe\">\n",
       "  <thead>\n",
       "    <tr style=\"text-align: right;\">\n",
       "      <th></th>\n",
       "      <th>Accuracy</th>\n",
       "    </tr>\n",
       "  </thead>\n",
       "  <tbody>\n",
       "    <tr>\n",
       "      <th>Logistic</th>\n",
       "      <td>0.857143</td>\n",
       "    </tr>\n",
       "    <tr>\n",
       "      <th>KNN</th>\n",
       "      <td>0.785714</td>\n",
       "    </tr>\n",
       "    <tr>\n",
       "      <th>Random Forest</th>\n",
       "      <td>0.714286</td>\n",
       "    </tr>\n",
       "    <tr>\n",
       "      <th>SVM</th>\n",
       "      <td>0.857143</td>\n",
       "    </tr>\n",
       "  </tbody>\n",
       "</table>\n",
       "</div>"
      ],
      "text/plain": [
       "               Accuracy\n",
       "Logistic       0.857143\n",
       "KNN            0.785714\n",
       "Random Forest  0.714286\n",
       "SVM            0.857143"
      ]
     },
     "execution_count": 20,
     "metadata": {},
     "output_type": "execute_result"
    }
   ],
   "source": [
    "model_score=[logist_pred0,knn_pred0, RF_pred0, SVM_pred0]\n",
    "models= ['Logistic','KNN','Random Forest','SVM']\n",
    "plt.barh(models,model_score)\n",
    "plt.show()\n",
    "pd.DataFrame(model_score,index= models ,columns=['Accuracy'])"
   ]
  },
  {
   "cell_type": "markdown",
   "metadata": {},
   "source": [
    "## 인도네시아어 -> 스페인어\n"
   ]
  },
  {
   "cell_type": "code",
   "execution_count": 21,
   "metadata": {
    "scrolled": false
   },
   "outputs": [
    {
     "data": {
      "image/png": "[encoded data removed]",
      "text/plain": [
       "<Figure size 432x288 with 1 Axes>"
      ]
     },
     "metadata": {
      "needs_background": "light"
     },
     "output_type": "display_data"
    },
    {
     "data": {
      "text/html": [
       "<div>\n",
       "<style scoped>\n",
       "    .dataframe tbody tr th:only-of-type {\n",
       "        vertical-align: middle;\n",
       "    }\n",
       "\n",
       "    .dataframe tbody tr th {\n",
       "        vertical-align: top;\n",
       "    }\n",
       "\n",
       "    .dataframe thead th {\n",
       "        text-align: right;\n",
       "    }\n",
       "</style>\n",
       "<table border=\"1\" class=\"dataframe\">\n",
       "  <thead>\n",
       "    <tr style=\"text-align: right;\">\n",
       "      <th></th>\n",
       "      <th>Accuracy</th>\n",
       "    </tr>\n",
       "  </thead>\n",
       "  <tbody>\n",
       "    <tr>\n",
       "      <th>Logistic</th>\n",
       "      <td>0.500000</td>\n",
       "    </tr>\n",
       "    <tr>\n",
       "      <th>KNN</th>\n",
       "      <td>0.571429</td>\n",
       "    </tr>\n",
       "    <tr>\n",
       "      <th>Random Forest</th>\n",
       "      <td>0.428571</td>\n",
       "    </tr>\n",
       "    <tr>\n",
       "      <th>SVM</th>\n",
       "      <td>0.500000</td>\n",
       "    </tr>\n",
       "  </tbody>\n",
       "</table>\n",
       "</div>"
      ],
      "text/plain": [
       "               Accuracy\n",
       "Logistic       0.500000\n",
       "KNN            0.571429\n",
       "Random Forest  0.428571\n",
       "SVM            0.500000"
      ]
     },
     "execution_count": 21,
     "metadata": {},
     "output_type": "execute_result"
    }
   ],
   "source": [
    "model_score=[logist_pred1,knn_pred1, RF_pred1, SVM_pred1]\n",
    "models= ['Logistic','KNN','Random Forest','SVM']\n",
    "plt.barh(models,model_score)\n",
    "plt.show()\n",
    "pd.DataFrame(model_score,index= models ,columns=['Accuracy'])"
   ]
  }
 ],
 "metadata": {
  "kernelspec": {
   "display_name": "Python 3",
   "language": "python",
   "name": "python3"
  },
  "language_info": {
   "codemirror_mode": {
    "name": "ipython",
    "version": 3
   },
   "file_extension": ".py",
   "mimetype": "text/x-python",
   "name": "python",
   "nbconvert_exporter": "python",
   "pygments_lexer": "ipython3",
   "version": "3.7.6"
  },
  "toc": {
   "base_numbering": 1,
   "nav_menu": {},
   "number_sections": true,
   "sideBar": true,
   "skip_h1_title": false,
   "title_cell": "Table of Contents",
   "title_sidebar": "Contents",
   "toc_cell": false,
   "toc_position": {
    "height": "calc(100% - 180px)",
    "left": "10px",
    "top": "150px",
    "width": "227px"
   },
   "toc_section_display": true,
   "toc_window_display": true
  },
  "varInspector": {
   "cols": {
    "lenName": 16,
    "lenType": 16,
    "lenVar": 40
   },
   "kernels_config": {
    "python": {
     "delete_cmd_postfix": "",
     "delete_cmd_prefix": "del ",
     "library": "var_list.py",
     "varRefreshCmd": "print(var_dic_list())"
    },
    "r": {
     "delete_cmd_postfix": ") ",
     "delete_cmd_prefix": "rm(",
     "library": "var_list.r",
     "varRefreshCmd": "cat(var_dic_list()) "
    }
   },
   "types_to_exclude": [
    "module",
    "function",
    "builtin_function_or_method",
    "instance",
    "_Feature"
   ],
   "window_display": false
  }
 },
 "nbformat": 4,
 "nbformat_minor": 4
}
