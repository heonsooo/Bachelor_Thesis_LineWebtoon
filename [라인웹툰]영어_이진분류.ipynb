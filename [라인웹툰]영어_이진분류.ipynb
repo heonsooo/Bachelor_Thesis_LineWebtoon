{
 "cells": [
  {
   "cell_type": "code",
   "execution_count": 1,
   "metadata": {},
   "outputs": [],
   "source": [
    "import pandas as pd\n",
    "import matplotlib.pyplot as plt\n",
    "# 윈도우의 한글 폰트 설정\n",
    "plt.rc('font', family = 'Malgun Gothic')\n",
    "\n",
    "# 시각화 그래프가 노트북 안에 보이게 하기\n",
    "%matplotlib inline\n",
    "plt.rcParams['axes.unicode_minus'] = False"
   ]
  },
  {
   "cell_type": "markdown",
   "metadata": {},
   "source": [
    "# 데이터 Read 및 Split(train, test)"
   ]
  },
  {
   "cell_type": "code",
   "execution_count": 2,
   "metadata": {},
   "outputs": [
    {
     "data": {
      "text/html": [
       "<div>\n",
       "<style scoped>\n",
       "    .dataframe tbody tr th:only-of-type {\n",
       "        vertical-align: middle;\n",
       "    }\n",
       "\n",
       "    .dataframe tbody tr th {\n",
       "        vertical-align: top;\n",
       "    }\n",
       "\n",
       "    .dataframe thead th {\n",
       "        text-align: right;\n",
       "    }\n",
       "</style>\n",
       "<table border=\"1\" class=\"dataframe\">\n",
       "  <thead>\n",
       "    <tr style=\"text-align: right;\">\n",
       "      <th></th>\n",
       "      <th>Webtoon code</th>\n",
       "      <th>Title</th>\n",
       "      <th>Subscribers</th>\n",
       "      <th>Grade</th>\n",
       "      <th>Amount</th>\n",
       "      <th>Total Likes</th>\n",
       "      <th>SJ</th>\n",
       "      <th>GH</th>\n",
       "      <th>ML</th>\n",
       "      <th>KA</th>\n",
       "      <th>...</th>\n",
       "      <th>Thriller</th>\n",
       "      <th>Action</th>\n",
       "      <th>Comedy</th>\n",
       "      <th>Fantasy</th>\n",
       "      <th>romantic-fantasy</th>\n",
       "      <th>Horor</th>\n",
       "      <th>Sports</th>\n",
       "      <th>heartwarming</th>\n",
       "      <th>Comments Likes</th>\n",
       "      <th>Target</th>\n",
       "    </tr>\n",
       "  </thead>\n",
       "  <tbody>\n",
       "    <tr>\n",
       "      <th>0</th>\n",
       "      <td>A2</td>\n",
       "      <td>Lore Olympus</td>\n",
       "      <td>0.079814</td>\n",
       "      <td>0.887417</td>\n",
       "      <td>0.501505</td>\n",
       "      <td>0.803013</td>\n",
       "      <td>0</td>\n",
       "      <td>0</td>\n",
       "      <td>0</td>\n",
       "      <td>1</td>\n",
       "      <td>...</td>\n",
       "      <td>0</td>\n",
       "      <td>0</td>\n",
       "      <td>0</td>\n",
       "      <td>1</td>\n",
       "      <td>0</td>\n",
       "      <td>0</td>\n",
       "      <td>0</td>\n",
       "      <td>0</td>\n",
       "      <td>4.457676</td>\n",
       "      <td>1</td>\n",
       "    </tr>\n",
       "    <tr>\n",
       "      <th>1</th>\n",
       "      <td>A35</td>\n",
       "      <td>Jungle Juice</td>\n",
       "      <td>0.085674</td>\n",
       "      <td>0.947020</td>\n",
       "      <td>0.561436</td>\n",
       "      <td>0.002078</td>\n",
       "      <td>0</td>\n",
       "      <td>1</td>\n",
       "      <td>0</td>\n",
       "      <td>0</td>\n",
       "      <td>...</td>\n",
       "      <td>0</td>\n",
       "      <td>1</td>\n",
       "      <td>0</td>\n",
       "      <td>1</td>\n",
       "      <td>0</td>\n",
       "      <td>0</td>\n",
       "      <td>0</td>\n",
       "      <td>0</td>\n",
       "      <td>0.919082</td>\n",
       "      <td>1</td>\n",
       "    </tr>\n",
       "    <tr>\n",
       "      <th>2</th>\n",
       "      <td>A37</td>\n",
       "      <td>Act Like You Love Me!</td>\n",
       "      <td>0.077990</td>\n",
       "      <td>0.927152</td>\n",
       "      <td>0.417363</td>\n",
       "      <td>0.002078</td>\n",
       "      <td>1</td>\n",
       "      <td>0</td>\n",
       "      <td>0</td>\n",
       "      <td>0</td>\n",
       "      <td>...</td>\n",
       "      <td>0</td>\n",
       "      <td>0</td>\n",
       "      <td>0</td>\n",
       "      <td>1</td>\n",
       "      <td>0</td>\n",
       "      <td>0</td>\n",
       "      <td>0</td>\n",
       "      <td>0</td>\n",
       "      <td>0.875933</td>\n",
       "      <td>1</td>\n",
       "    </tr>\n",
       "    <tr>\n",
       "      <th>3</th>\n",
       "      <td>A39</td>\n",
       "      <td>The Kiss Bet</td>\n",
       "      <td>0.176676</td>\n",
       "      <td>0.860927</td>\n",
       "      <td>0.232225</td>\n",
       "      <td>0.140618</td>\n",
       "      <td>0</td>\n",
       "      <td>0</td>\n",
       "      <td>1</td>\n",
       "      <td>0</td>\n",
       "      <td>...</td>\n",
       "      <td>0</td>\n",
       "      <td>0</td>\n",
       "      <td>0</td>\n",
       "      <td>0</td>\n",
       "      <td>0</td>\n",
       "      <td>0</td>\n",
       "      <td>0</td>\n",
       "      <td>0</td>\n",
       "      <td>0.793231</td>\n",
       "      <td>1</td>\n",
       "    </tr>\n",
       "    <tr>\n",
       "      <th>4</th>\n",
       "      <td>A40</td>\n",
       "      <td>My Gently Raised Beast</td>\n",
       "      <td>0.064348</td>\n",
       "      <td>0.973510</td>\n",
       "      <td>0.285228</td>\n",
       "      <td>0.000779</td>\n",
       "      <td>1</td>\n",
       "      <td>0</td>\n",
       "      <td>0</td>\n",
       "      <td>0</td>\n",
       "      <td>...</td>\n",
       "      <td>0</td>\n",
       "      <td>0</td>\n",
       "      <td>0</td>\n",
       "      <td>1</td>\n",
       "      <td>0</td>\n",
       "      <td>0</td>\n",
       "      <td>0</td>\n",
       "      <td>0</td>\n",
       "      <td>0.767148</td>\n",
       "      <td>1</td>\n",
       "    </tr>\n",
       "    <tr>\n",
       "      <th>...</th>\n",
       "      <td>...</td>\n",
       "      <td>...</td>\n",
       "      <td>...</td>\n",
       "      <td>...</td>\n",
       "      <td>...</td>\n",
       "      <td>...</td>\n",
       "      <td>...</td>\n",
       "      <td>...</td>\n",
       "      <td>...</td>\n",
       "      <td>...</td>\n",
       "      <td>...</td>\n",
       "      <td>...</td>\n",
       "      <td>...</td>\n",
       "      <td>...</td>\n",
       "      <td>...</td>\n",
       "      <td>...</td>\n",
       "      <td>...</td>\n",
       "      <td>...</td>\n",
       "      <td>...</td>\n",
       "      <td>...</td>\n",
       "      <td>...</td>\n",
       "    </tr>\n",
       "    <tr>\n",
       "      <th>206</th>\n",
       "      <td>A136</td>\n",
       "      <td>Backchannel</td>\n",
       "      <td>0.023198</td>\n",
       "      <td>0.841060</td>\n",
       "      <td>0.293937</td>\n",
       "      <td>0.000270</td>\n",
       "      <td>0</td>\n",
       "      <td>1</td>\n",
       "      <td>0</td>\n",
       "      <td>0</td>\n",
       "      <td>...</td>\n",
       "      <td>0</td>\n",
       "      <td>1</td>\n",
       "      <td>0</td>\n",
       "      <td>0</td>\n",
       "      <td>0</td>\n",
       "      <td>0</td>\n",
       "      <td>0</td>\n",
       "      <td>0</td>\n",
       "      <td>-0.495009</td>\n",
       "      <td>0</td>\n",
       "    </tr>\n",
       "    <tr>\n",
       "      <th>207</th>\n",
       "      <td>A134</td>\n",
       "      <td>KILLMAX</td>\n",
       "      <td>0.086675</td>\n",
       "      <td>0.476821</td>\n",
       "      <td>0.262703</td>\n",
       "      <td>0.002078</td>\n",
       "      <td>0</td>\n",
       "      <td>1</td>\n",
       "      <td>0</td>\n",
       "      <td>0</td>\n",
       "      <td>...</td>\n",
       "      <td>0</td>\n",
       "      <td>1</td>\n",
       "      <td>0</td>\n",
       "      <td>0</td>\n",
       "      <td>0</td>\n",
       "      <td>0</td>\n",
       "      <td>0</td>\n",
       "      <td>0</td>\n",
       "      <td>-0.479485</td>\n",
       "      <td>0</td>\n",
       "    </tr>\n",
       "    <tr>\n",
       "      <th>208</th>\n",
       "      <td>A128</td>\n",
       "      <td>Yuna &amp; Kawachan</td>\n",
       "      <td>0.029624</td>\n",
       "      <td>0.927152</td>\n",
       "      <td>0.399451</td>\n",
       "      <td>0.030218</td>\n",
       "      <td>0</td>\n",
       "      <td>0</td>\n",
       "      <td>1</td>\n",
       "      <td>0</td>\n",
       "      <td>...</td>\n",
       "      <td>0</td>\n",
       "      <td>0</td>\n",
       "      <td>0</td>\n",
       "      <td>0</td>\n",
       "      <td>0</td>\n",
       "      <td>0</td>\n",
       "      <td>0</td>\n",
       "      <td>0</td>\n",
       "      <td>-0.439418</td>\n",
       "      <td>0</td>\n",
       "    </tr>\n",
       "    <tr>\n",
       "      <th>209</th>\n",
       "      <td>A187</td>\n",
       "      <td>Dr. Frost</td>\n",
       "      <td>0.058085</td>\n",
       "      <td>0.933775</td>\n",
       "      <td>0.195373</td>\n",
       "      <td>0.047536</td>\n",
       "      <td>0</td>\n",
       "      <td>1</td>\n",
       "      <td>0</td>\n",
       "      <td>0</td>\n",
       "      <td>...</td>\n",
       "      <td>0</td>\n",
       "      <td>0</td>\n",
       "      <td>0</td>\n",
       "      <td>0</td>\n",
       "      <td>0</td>\n",
       "      <td>0</td>\n",
       "      <td>0</td>\n",
       "      <td>0</td>\n",
       "      <td>-0.717031</td>\n",
       "      <td>0</td>\n",
       "    </tr>\n",
       "    <tr>\n",
       "      <th>210</th>\n",
       "      <td>A238</td>\n",
       "      <td>The Red Hook: Blackout</td>\n",
       "      <td>0.001776</td>\n",
       "      <td>-0.940397</td>\n",
       "      <td>0.171083</td>\n",
       "      <td>-0.000057</td>\n",
       "      <td>0</td>\n",
       "      <td>0</td>\n",
       "      <td>0</td>\n",
       "      <td>1</td>\n",
       "      <td>...</td>\n",
       "      <td>0</td>\n",
       "      <td>1</td>\n",
       "      <td>0</td>\n",
       "      <td>0</td>\n",
       "      <td>0</td>\n",
       "      <td>0</td>\n",
       "      <td>0</td>\n",
       "      <td>0</td>\n",
       "      <td>-0.890425</td>\n",
       "      <td>0</td>\n",
       "    </tr>\n",
       "  </tbody>\n",
       "</table>\n",
       "<p>211 rows × 26 columns</p>\n",
       "</div>"
      ],
      "text/plain": [
       "    Webtoon code                   Title  Subscribers     Grade    Amount  \\\n",
       "0             A2            Lore Olympus     0.079814  0.887417  0.501505   \n",
       "1            A35            Jungle Juice     0.085674  0.947020  0.561436   \n",
       "2            A37   Act Like You Love Me!     0.077990  0.927152  0.417363   \n",
       "3            A39            The Kiss Bet     0.176676  0.860927  0.232225   \n",
       "4            A40  My Gently Raised Beast     0.064348  0.973510  0.285228   \n",
       "..           ...                     ...          ...       ...       ...   \n",
       "206         A136             Backchannel     0.023198  0.841060  0.293937   \n",
       "207         A134                 KILLMAX     0.086675  0.476821  0.262703   \n",
       "208         A128         Yuna & Kawachan     0.029624  0.927152  0.399451   \n",
       "209         A187               Dr. Frost     0.058085  0.933775  0.195373   \n",
       "210         A238  The Red Hook: Blackout     0.001776 -0.940397  0.171083   \n",
       "\n",
       "     Total Likes  SJ  GH  ML  KA  ...  Thriller  Action  Comedy  Fantasy  \\\n",
       "0       0.803013   0   0   0   1  ...         0       0       0        1   \n",
       "1       0.002078   0   1   0   0  ...         0       1       0        1   \n",
       "2       0.002078   1   0   0   0  ...         0       0       0        1   \n",
       "3       0.140618   0   0   1   0  ...         0       0       0        0   \n",
       "4       0.000779   1   0   0   0  ...         0       0       0        1   \n",
       "..           ...  ..  ..  ..  ..  ...       ...     ...     ...      ...   \n",
       "206     0.000270   0   1   0   0  ...         0       1       0        0   \n",
       "207     0.002078   0   1   0   0  ...         0       1       0        0   \n",
       "208     0.030218   0   0   1   0  ...         0       0       0        0   \n",
       "209     0.047536   0   1   0   0  ...         0       0       0        0   \n",
       "210    -0.000057   0   0   0   1  ...         0       1       0        0   \n",
       "\n",
       "     romantic-fantasy  Horor  Sports  heartwarming  Comments Likes  Target  \n",
       "0                   0      0       0             0        4.457676       1  \n",
       "1                   0      0       0             0        0.919082       1  \n",
       "2                   0      0       0             0        0.875933       1  \n",
       "3                   0      0       0             0        0.793231       1  \n",
       "4                   0      0       0             0        0.767148       1  \n",
       "..                ...    ...     ...           ...             ...     ...  \n",
       "206                 0      0       0             0       -0.495009       0  \n",
       "207                 0      0       0             0       -0.479485       0  \n",
       "208                 0      0       0             0       -0.439418       0  \n",
       "209                 0      0       0             0       -0.717031       0  \n",
       "210                 0      0       0             0       -0.890425       0  \n",
       "\n",
       "[211 rows x 26 columns]"
      ]
     },
     "execution_count": 2,
     "metadata": {},
     "output_type": "execute_result"
    }
   ],
   "source": [
    "df_en_s = pd.read_csv('./data/[영어]라벨링_스케일링_이진.csv',encoding='utf-8')\n",
    "df_en_s"
   ]
  },
  {
   "cell_type": "code",
   "execution_count": 3,
   "metadata": {},
   "outputs": [],
   "source": [
    "from sklearn.model_selection import train_test_split\n",
    "header = []\n",
    "for i in df_en_s:\n",
    "    header.append(i)\n",
    "\n",
    "    x = df_en_s[header[2:-1]]\n",
    "    y = df_en_s[header[-1]]  #데이터셋 분류: x=input variable, y=output variable\n",
    "\n",
    "    X_train, X_test, y_train, y_test = train_test_split(\n",
    "        x, y, test_size=0.3, random_state=42)  #데이터셋 학습용/테스트용 나눔"
   ]
  },
  {
   "cell_type": "markdown",
   "metadata": {},
   "source": [
    "## 예측 데이터"
   ]
  },
  {
   "cell_type": "code",
   "execution_count": 4,
   "metadata": {},
   "outputs": [],
   "source": [
    "df_id_s = pd.read_csv('./test/인도네시아어_공통웹툰_en타겟.csv',encoding='utf-8')\n",
    "X0_test = df_id_s[df_id_s.columns[1:-1]]\n",
    "y0_test = df_id_s[df_id_s.columns[-1]]\n",
    "\n",
    "df_sp_s= pd.read_csv('./test/스페인어_공통웹툰_en타겟.csv')\n",
    "X1_test = df_sp_s[df_sp_s.columns[1:-1]]\n",
    "y1_test = df_sp_s[df_sp_s.columns[-1]]"
   ]
  },
  {
   "cell_type": "markdown",
   "metadata": {},
   "source": [
    "# 다중분류\n",
    "## 1. 로지스틱회귀 다중분류"
   ]
  },
  {
   "cell_type": "code",
   "execution_count": 5,
   "metadata": {
    "scrolled": true
   },
   "outputs": [
    {
     "name": "stdout",
     "output_type": "stream",
     "text": [
      "[분류 결과] \n",
      " [1 0 0 0 0 0 1 1 1 0 0 0 0 1 1 0 0 1 0 1 0 1 0 0 0 0 1 0 1 1 0 0 0 0 0 0 1\n",
      " 1 1 1 0 0 0 0 0 0 0 1 0 1 0 1 0 1 0 1 0 0 0 1 0 0 0 0]\n",
      "\n",
      " 테스트 정확도 : 0.703125\n",
      "\n",
      "인도네시아어-> 영어 테스트 정확도 : 0.7857142857142857\n",
      "\n",
      "스페인어-> 영어 테스트 정확도 : 0.5555555555555556\n"
     ]
    }
   ],
   "source": [
    "from sklearn.linear_model import LogisticRegression #로지스틱회귀\n",
    "model = LogisticRegression() \n",
    "\n",
    "#분류 모델 학습 \n",
    "model.fit(X_train, y_train)  \n",
    "\n",
    "#분류 결과\n",
    "print('[분류 결과] \\n', model.predict(X_test)) \n",
    "print('\\n 테스트 정확도 :', model.score(X_test, y_test))  \n",
    "logist = model.score(X_test, y_test)\n",
    "\n",
    "\n",
    "print('\\n인도네시아어-> 영어 테스트 정확도 :', model.score(X0_test, y0_test))  \n",
    "logist_pred0 = model.score(X0_test, y0_test)\n",
    "\n",
    "print('\\n스페인어-> 영어 테스트 정확도 :', model.score(X1_test, y1_test))  \n",
    "logist_pred1 = model.score(X1_test, y1_test)"
   ]
  },
  {
   "cell_type": "code",
   "execution_count": 6,
   "metadata": {},
   "outputs": [
    {
     "data": {
      "text/html": [
       "<div>\n",
       "<style scoped>\n",
       "    .dataframe tbody tr th:only-of-type {\n",
       "        vertical-align: middle;\n",
       "    }\n",
       "\n",
       "    .dataframe tbody tr th {\n",
       "        vertical-align: top;\n",
       "    }\n",
       "\n",
       "    .dataframe thead th {\n",
       "        text-align: right;\n",
       "    }\n",
       "</style>\n",
       "<table border=\"1\" class=\"dataframe\">\n",
       "  <thead>\n",
       "    <tr style=\"text-align: right;\">\n",
       "      <th></th>\n",
       "      <th>Coef</th>\n",
       "    </tr>\n",
       "  </thead>\n",
       "  <tbody>\n",
       "    <tr>\n",
       "      <th>Romance</th>\n",
       "      <td>1.198947</td>\n",
       "    </tr>\n",
       "    <tr>\n",
       "      <th>Total Likes</th>\n",
       "      <td>1.188979</td>\n",
       "    </tr>\n",
       "    <tr>\n",
       "      <th>Comments Likes</th>\n",
       "      <td>0.937950</td>\n",
       "    </tr>\n",
       "    <tr>\n",
       "      <th>Action</th>\n",
       "      <td>0.761222</td>\n",
       "    </tr>\n",
       "    <tr>\n",
       "      <th>Grade</th>\n",
       "      <td>0.573634</td>\n",
       "    </tr>\n",
       "    <tr>\n",
       "      <th>Drama</th>\n",
       "      <td>0.476640</td>\n",
       "    </tr>\n",
       "    <tr>\n",
       "      <th>Fantasy</th>\n",
       "      <td>0.366017</td>\n",
       "    </tr>\n",
       "    <tr>\n",
       "      <th>ML</th>\n",
       "      <td>0.363755</td>\n",
       "    </tr>\n",
       "    <tr>\n",
       "      <th>Subscribers</th>\n",
       "      <td>0.333172</td>\n",
       "    </tr>\n",
       "    <tr>\n",
       "      <th>Thriller</th>\n",
       "      <td>0.323807</td>\n",
       "    </tr>\n",
       "    <tr>\n",
       "      <th>Supernatural</th>\n",
       "      <td>0.254122</td>\n",
       "    </tr>\n",
       "    <tr>\n",
       "      <th>KA</th>\n",
       "      <td>0.148484</td>\n",
       "    </tr>\n",
       "    <tr>\n",
       "      <th>heartwarming</th>\n",
       "      <td>0.000000</td>\n",
       "    </tr>\n",
       "    <tr>\n",
       "      <th>romantic-fantasy</th>\n",
       "      <td>0.000000</td>\n",
       "    </tr>\n",
       "    <tr>\n",
       "      <th>Horor</th>\n",
       "      <td>0.000000</td>\n",
       "    </tr>\n",
       "    <tr>\n",
       "      <th>Sports</th>\n",
       "      <td>0.000000</td>\n",
       "    </tr>\n",
       "    <tr>\n",
       "      <th>Slice of life</th>\n",
       "      <td>-0.084288</td>\n",
       "    </tr>\n",
       "    <tr>\n",
       "      <th>SJ</th>\n",
       "      <td>-0.126255</td>\n",
       "    </tr>\n",
       "    <tr>\n",
       "      <th>Amount</th>\n",
       "      <td>-0.174143</td>\n",
       "    </tr>\n",
       "    <tr>\n",
       "      <th>Sci-fi</th>\n",
       "      <td>-0.239266</td>\n",
       "    </tr>\n",
       "    <tr>\n",
       "      <th>GH</th>\n",
       "      <td>-0.385877</td>\n",
       "    </tr>\n",
       "    <tr>\n",
       "      <th>Superhero</th>\n",
       "      <td>-0.439150</td>\n",
       "    </tr>\n",
       "    <tr>\n",
       "      <th>Comedy</th>\n",
       "      <td>-0.579639</td>\n",
       "    </tr>\n",
       "  </tbody>\n",
       "</table>\n",
       "</div>"
      ],
      "text/plain": [
       "                      Coef\n",
       "Romance           1.198947\n",
       "Total Likes       1.188979\n",
       "Comments Likes    0.937950\n",
       "Action            0.761222\n",
       "Grade             0.573634\n",
       "Drama             0.476640\n",
       "Fantasy           0.366017\n",
       "ML                0.363755\n",
       "Subscribers       0.333172\n",
       "Thriller          0.323807\n",
       "Supernatural      0.254122\n",
       "KA                0.148484\n",
       "heartwarming      0.000000\n",
       "romantic-fantasy  0.000000\n",
       "Horor             0.000000\n",
       "Sports            0.000000\n",
       "Slice of life    -0.084288\n",
       "SJ               -0.126255\n",
       "Amount           -0.174143\n",
       "Sci-fi           -0.239266\n",
       "GH               -0.385877\n",
       "Superhero        -0.439150\n",
       "Comedy           -0.579639"
      ]
     },
     "execution_count": 6,
     "metadata": {},
     "output_type": "execute_result"
    },
    {
     "data": {
      "image/png": "[encoded data removed]",
      "text/plain": [
       "<Figure size 432x288 with 1 Axes>"
      ]
     },
     "metadata": {
      "needs_background": "light"
     },
     "output_type": "display_data"
    }
   ],
   "source": [
    "df_LG = pd.DataFrame(model.coef_[0], columns=['Coef'], index= X_test.columns ).sort_values(by='Coef')\n",
    "df_LG.plot(kind = 'barh')\n",
    "df_LG.sort_values(by='Coef', ascending = False)"
   ]
  },
  {
   "cell_type": "markdown",
   "metadata": {},
   "source": [
    "## Confusion Matrix & Performances"
   ]
  },
  {
   "cell_type": "code",
   "execution_count": 7,
   "metadata": {},
   "outputs": [],
   "source": [
    "from sklearn.metrics import confusion_matrix\n",
    "from sklearn.metrics import plot_confusion_matrix\n",
    "import seaborn as sns\n",
    "from sklearn.metrics import accuracy_score, precision_score,recall_score,f1_score\n",
    "def confusion_matrix_lan(X_test, y_test,lan1,lan2):\n",
    "    y_true = list(y_test)\n",
    "    y_pred = model.predict(X_test)\n",
    "    confusion_matrix(y_true, y_pred)\n",
    "\n",
    "\n",
    "    cm = confusion_matrix(y_test, y_pred) \n",
    "\n",
    "    # Transform to df for easier plotting\n",
    "    cm_df = pd.DataFrame(cm,\n",
    "                         index = ['상위50%','하위50%'], \n",
    "                         columns = ['상위50%','하위50%'])\n",
    "\n",
    "    plt.figure(figsize=(5.5,4))\n",
    "    sns.heatmap(cm_df, annot=True)\n",
    "    plt.title(lan1+ '-> '+lan2 +' \\nAccuracy:{0:.3f}'.format(accuracy_score(y_test, y_pred)))\n",
    "    plt.ylabel('True label')\n",
    "    plt.xlabel('Predicted label')\n",
    "    plt.show()\n",
    "\n",
    "    print( 'Accuracy : {:.3f} \\nPrecision : {:.3f} \\nRecall : {:.3f} \\nF1_score: {:.3f} '.format(accuracy_score(y_test, y_pred),\n",
    "          precision_score(y_test, y_pred),\n",
    "          recall_score(y_test, y_pred) ,\n",
    "          f1_score(y_test, y_pred)  ))"
   ]
  },
  {
   "cell_type": "code",
   "execution_count": 8,
   "metadata": {},
   "outputs": [
    {
     "data": {
      "image/png": "[encoded data removed]",
      "text/plain": [
       "<Figure size 432x288 with 2 Axes>"
      ]
     },
     "metadata": {
      "needs_background": "light"
     },
     "output_type": "display_data"
    },
    {
     "data": {
      "image/png": "[encoded data removed]",
      "text/plain": [
       "<Figure size 396x288 with 2 Axes>"
      ]
     },
     "metadata": {
      "needs_background": "light"
     },
     "output_type": "display_data"
    },
    {
     "name": "stdout",
     "output_type": "stream",
     "text": [
      "Accuracy : 0.786 \n",
      "Precision : 0.909 \n",
      "Recall : 0.833 \n",
      "F1_score: 0.870 \n"
     ]
    },
    {
     "data": {
      "image/png": "[encoded data removed]",
      "text/plain": [
       "<Figure size 396x288 with 2 Axes>"
      ]
     },
     "metadata": {
      "needs_background": "light"
     },
     "output_type": "display_data"
    },
    {
     "name": "stdout",
     "output_type": "stream",
     "text": [
      "Accuracy : 0.556 \n",
      "Precision : 0.900 \n",
      "Recall : 0.562 \n",
      "F1_score: 0.692 \n"
     ]
    }
   ],
   "source": [
    "plot_confusion_matrix(model, X_test, y_test, display_labels= ['상위50%', '하위 50%'])  \n",
    "confusion_matrix_lan(X0_test, y0_test,'인도네시아어','영어')\n",
    "confusion_matrix_lan(X1_test, y1_test,'스페인어','영어')"
   ]
  },
  {
   "cell_type": "markdown",
   "metadata": {},
   "source": [
    "## KNN "
   ]
  },
  {
   "cell_type": "code",
   "execution_count": 9,
   "metadata": {},
   "outputs": [
    {
     "data": {
      "text/plain": [
       "[<matplotlib.lines.Line2D at 0x1c846a10b48>]"
      ]
     },
     "execution_count": 9,
     "metadata": {},
     "output_type": "execute_result"
    },
    {
     "data": {
      "image/png": "[encoded data removed]",
      "text/plain": [
       "<Figure size 432x288 with 1 Axes>"
      ]
     },
     "metadata": {
      "needs_background": "light"
     },
     "output_type": "display_data"
    }
   ],
   "source": [
    "from sklearn.neighbors import KNeighborsClassifier\n",
    "\n",
    "#model = KNeighborsClassifier(n_neighbors=4)\n",
    "#model.fit(X_train, y_train)  \n",
    "#print('[분류 결과] \\n', model.predict(X_test)) \n",
    "k = 70\n",
    "scores = []\n",
    "for i in range(1,k):\n",
    "    model = KNeighborsClassifier(n_neighbors=i)\n",
    "    model.fit(X_train, y_train)\n",
    "    score = model.score(X_test, y_test)\n",
    "    #print('\\n [테스트 정확도] :', score)  \n",
    "    scores.append(score)\n",
    "# print(model.predict_proba(X_test))\n",
    "K = scores.index(max(scores))+1\n",
    "plt.plot([i for i in range(1,k)], scores)"
   ]
  },
  {
   "cell_type": "code",
   "execution_count": 10,
   "metadata": {
    "scrolled": true
   },
   "outputs": [
    {
     "name": "stdout",
     "output_type": "stream",
     "text": [
      "[분류 결과] \n",
      " [1 0 0 0 0 0 1 1 1 0 0 0 0 1 0 0 0 1 0 1 1 1 0 0 0 0 1 0 1 0 0 0 0 0 0 0 1\n",
      " 1 0 1 0 0 0 0 0 0 0 1 0 1 0 1 0 1 0 1 1 0 0 1 0 1 0 0]\n",
      "\n",
      " [테스트 정확도] : 0.765625\n",
      "\n",
      "인도네시아어-> 영어 테스트 정확도 : 0.7857142857142857\n",
      "\n",
      "스페인어-> 영어 테스트 정확도 : 0.7222222222222222\n"
     ]
    }
   ],
   "source": [
    "from sklearn.neighbors import KNeighborsClassifier\n",
    "model = KNeighborsClassifier(n_neighbors=K)\n",
    "model.fit(X_train, y_train)\n",
    "\n",
    "#print(model.predict_proba(X_test))\n",
    "print('[분류 결과] \\n', model.predict(X_test)) \n",
    "print('\\n [테스트 정확도] :', model.score(X_test, y_test))  \n",
    "# model.predict(xx_test)\n",
    "knn = model.score(X_test, y_test)\n",
    "\n",
    "\n",
    "\n",
    "print('\\n인도네시아어-> 영어 테스트 정확도 :', model.score(X0_test, y0_test))  \n",
    "knn_pred0 = model.score(X0_test, y0_test)\n",
    "\n",
    "print('\\n스페인어-> 영어 테스트 정확도 :', model.score(X1_test, y1_test))  \n",
    "knn_pred1 = model.score(X1_test, y1_test)"
   ]
  },
  {
   "cell_type": "code",
   "execution_count": 11,
   "metadata": {},
   "outputs": [
    {
     "data": {
      "image/png": "[encoded data removed]",
      "text/plain": [
       "<Figure size 432x288 with 2 Axes>"
      ]
     },
     "metadata": {
      "needs_background": "light"
     },
     "output_type": "display_data"
    },
    {
     "data": {
      "image/png": "[encoded data removed]",
      "text/plain": [
       "<Figure size 396x288 with 2 Axes>"
      ]
     },
     "metadata": {
      "needs_background": "light"
     },
     "output_type": "display_data"
    },
    {
     "name": "stdout",
     "output_type": "stream",
     "text": [
      "Accuracy : 0.786 \n",
      "Precision : 0.846 \n",
      "Recall : 0.917 \n",
      "F1_score: 0.880 \n"
     ]
    },
    {
     "data": {
      "image/png": "[encoded data removed]",
      "text/plain": [
       "<Figure size 396x288 with 2 Axes>"
      ]
     },
     "metadata": {
      "needs_background": "light"
     },
     "output_type": "display_data"
    },
    {
     "name": "stdout",
     "output_type": "stream",
     "text": [
      "Accuracy : 0.722 \n",
      "Precision : 0.867 \n",
      "Recall : 0.812 \n",
      "F1_score: 0.839 \n"
     ]
    }
   ],
   "source": [
    "plot_confusion_matrix(model, X_test, y_test, display_labels= ['상위50%', '하위 50%'])  \n",
    "confusion_matrix_lan(X0_test, y0_test,'인도네시아어','영어')\n",
    "confusion_matrix_lan(X1_test, y1_test,'스페인어','영어')"
   ]
  },
  {
   "cell_type": "markdown",
   "metadata": {},
   "source": [
    "## RandomForest"
   ]
  },
  {
   "cell_type": "code",
   "execution_count": 12,
   "metadata": {},
   "outputs": [
    {
     "name": "stdout",
     "output_type": "stream",
     "text": [
      "[분류 결과] \n",
      " [1 1 0 0 0 0 1 1 1 0 0 0 0 1 1 0 0 1 0 1 1 1 0 0 0 0 1 0 1 1 0 0 0 0 0 0 1\n",
      " 1 1 1 0 0 0 1 0 0 1 1 0 1 0 1 0 1 1 1 1 0 0 1 0 0 0 0]\n",
      "\n",
      " [테스트 정확도] : 0.734375\n",
      "\n",
      "인도네시아어-> 영어 테스트 정확도 : 0.8571428571428571\n",
      "\n",
      "스페인어-> 영어 테스트 정확도 : 0.8888888888888888\n"
     ]
    }
   ],
   "source": [
    "from sklearn.ensemble import RandomForestClassifier\n",
    "from sklearn.datasets import make_classification\n",
    "model = RandomForestClassifier(max_depth=2, random_state=0)\n",
    "model.fit(X_train, y_train)\n",
    "\n",
    "#print(model.predict_proba(X_test))\n",
    "print('[분류 결과] \\n', model.predict(X_test)) \n",
    "print('\\n [테스트 정확도] :', model.score(X_test, y_test))  \n",
    "\n",
    "RF = model.score(X_test, y_test)\n",
    "# print('스페인어 분류 예측:', model.predict(xx_test))\n",
    "\n",
    "\n",
    "print('\\n인도네시아어-> 영어 테스트 정확도 :', model.score(X0_test, y0_test))  \n",
    "RF_pred0 = model.score(X0_test, y0_test)\n",
    "\n",
    "print('\\n스페인어-> 영어 테스트 정확도 :', model.score(X1_test, y1_test))  \n",
    "RF_pred1 = model.score(X1_test, y1_test)"
   ]
  },
  {
   "cell_type": "code",
   "execution_count": 13,
   "metadata": {},
   "outputs": [
    {
     "data": {
      "text/html": [
       "<div>\n",
       "<style scoped>\n",
       "    .dataframe tbody tr th:only-of-type {\n",
       "        vertical-align: middle;\n",
       "    }\n",
       "\n",
       "    .dataframe tbody tr th {\n",
       "        vertical-align: top;\n",
       "    }\n",
       "\n",
       "    .dataframe thead th {\n",
       "        text-align: right;\n",
       "    }\n",
       "</style>\n",
       "<table border=\"1\" class=\"dataframe\">\n",
       "  <thead>\n",
       "    <tr style=\"text-align: right;\">\n",
       "      <th></th>\n",
       "      <th>Importance</th>\n",
       "    </tr>\n",
       "  </thead>\n",
       "  <tbody>\n",
       "    <tr>\n",
       "      <th>Comments Likes</th>\n",
       "      <td>0.360952</td>\n",
       "    </tr>\n",
       "    <tr>\n",
       "      <th>Grade</th>\n",
       "      <td>0.106835</td>\n",
       "    </tr>\n",
       "    <tr>\n",
       "      <th>Subscribers</th>\n",
       "      <td>0.104961</td>\n",
       "    </tr>\n",
       "    <tr>\n",
       "      <th>Romance</th>\n",
       "      <td>0.100667</td>\n",
       "    </tr>\n",
       "    <tr>\n",
       "      <th>Total Likes</th>\n",
       "      <td>0.082900</td>\n",
       "    </tr>\n",
       "    <tr>\n",
       "      <th>Amount</th>\n",
       "      <td>0.079378</td>\n",
       "    </tr>\n",
       "    <tr>\n",
       "      <th>Sci-fi</th>\n",
       "      <td>0.030850</td>\n",
       "    </tr>\n",
       "    <tr>\n",
       "      <th>Comedy</th>\n",
       "      <td>0.025594</td>\n",
       "    </tr>\n",
       "    <tr>\n",
       "      <th>SJ</th>\n",
       "      <td>0.025063</td>\n",
       "    </tr>\n",
       "    <tr>\n",
       "      <th>Drama</th>\n",
       "      <td>0.015308</td>\n",
       "    </tr>\n",
       "    <tr>\n",
       "      <th>Fantasy</th>\n",
       "      <td>0.015250</td>\n",
       "    </tr>\n",
       "    <tr>\n",
       "      <th>Slice of life</th>\n",
       "      <td>0.010826</td>\n",
       "    </tr>\n",
       "    <tr>\n",
       "      <th>Supernatural</th>\n",
       "      <td>0.010805</td>\n",
       "    </tr>\n",
       "    <tr>\n",
       "      <th>Thriller</th>\n",
       "      <td>0.010738</td>\n",
       "    </tr>\n",
       "    <tr>\n",
       "      <th>GH</th>\n",
       "      <td>0.006434</td>\n",
       "    </tr>\n",
       "    <tr>\n",
       "      <th>Action</th>\n",
       "      <td>0.004335</td>\n",
       "    </tr>\n",
       "    <tr>\n",
       "      <th>KA</th>\n",
       "      <td>0.004334</td>\n",
       "    </tr>\n",
       "    <tr>\n",
       "      <th>Superhero</th>\n",
       "      <td>0.002564</td>\n",
       "    </tr>\n",
       "    <tr>\n",
       "      <th>ML</th>\n",
       "      <td>0.002207</td>\n",
       "    </tr>\n",
       "    <tr>\n",
       "      <th>Sports</th>\n",
       "      <td>0.000000</td>\n",
       "    </tr>\n",
       "    <tr>\n",
       "      <th>romantic-fantasy</th>\n",
       "      <td>0.000000</td>\n",
       "    </tr>\n",
       "    <tr>\n",
       "      <th>heartwarming</th>\n",
       "      <td>0.000000</td>\n",
       "    </tr>\n",
       "    <tr>\n",
       "      <th>Horor</th>\n",
       "      <td>0.000000</td>\n",
       "    </tr>\n",
       "  </tbody>\n",
       "</table>\n",
       "</div>"
      ],
      "text/plain": [
       "                  Importance\n",
       "Comments Likes      0.360952\n",
       "Grade               0.106835\n",
       "Subscribers         0.104961\n",
       "Romance             0.100667\n",
       "Total Likes         0.082900\n",
       "Amount              0.079378\n",
       "Sci-fi              0.030850\n",
       "Comedy              0.025594\n",
       "SJ                  0.025063\n",
       "Drama               0.015308\n",
       "Fantasy             0.015250\n",
       "Slice of life       0.010826\n",
       "Supernatural        0.010805\n",
       "Thriller            0.010738\n",
       "GH                  0.006434\n",
       "Action              0.004335\n",
       "KA                  0.004334\n",
       "Superhero           0.002564\n",
       "ML                  0.002207\n",
       "Sports              0.000000\n",
       "romantic-fantasy    0.000000\n",
       "heartwarming        0.000000\n",
       "Horor               0.000000"
      ]
     },
     "execution_count": 13,
     "metadata": {},
     "output_type": "execute_result"
    },
    {
     "data": {
      "image/png": "[encoded data removed]",
      "text/plain": [
       "<Figure size 432x288 with 1 Axes>"
      ]
     },
     "metadata": {
      "needs_background": "light"
     },
     "output_type": "display_data"
    }
   ],
   "source": [
    "df_RF = pd.DataFrame(model.feature_importances_,\n",
    "             columns=['Importance'], index = X_test.columns).sort_values(by='Importance')\n",
    "df_RF.plot(kind='barh' ,sort_columns ='Importance' )\n",
    "df_RF.sort_values(by='Importance', ascending = False)"
   ]
  },
  {
   "cell_type": "code",
   "execution_count": 14,
   "metadata": {},
   "outputs": [
    {
     "data": {
      "image/png": "[encoded data removed]",
      "text/plain": [
       "<Figure size 432x288 with 2 Axes>"
      ]
     },
     "metadata": {
      "needs_background": "light"
     },
     "output_type": "display_data"
    },
    {
     "data": {
      "image/png": "[encoded data removed]",
      "text/plain": [
       "<Figure size 396x288 with 2 Axes>"
      ]
     },
     "metadata": {
      "needs_background": "light"
     },
     "output_type": "display_data"
    },
    {
     "name": "stdout",
     "output_type": "stream",
     "text": [
      "Accuracy : 0.857 \n",
      "Precision : 0.857 \n",
      "Recall : 1.000 \n",
      "F1_score: 0.923 \n"
     ]
    },
    {
     "data": {
      "image/png": "[encoded data removed]",
      "text/plain": [
       "<Figure size 396x288 with 2 Axes>"
      ]
     },
     "metadata": {
      "needs_background": "light"
     },
     "output_type": "display_data"
    },
    {
     "name": "stdout",
     "output_type": "stream",
     "text": [
      "Accuracy : 0.889 \n",
      "Precision : 0.889 \n",
      "Recall : 1.000 \n",
      "F1_score: 0.941 \n"
     ]
    }
   ],
   "source": [
    "plot_confusion_matrix(model, X_test, y_test, display_labels= ['상위50%', '하위 50%'])  \n",
    "confusion_matrix_lan(X0_test, y0_test,'인도네시아어','영어')\n",
    "confusion_matrix_lan(X1_test, y1_test,'스페인어','영어')"
   ]
  },
  {
   "cell_type": "markdown",
   "metadata": {},
   "source": [
    "## SVM - SVC"
   ]
  },
  {
   "cell_type": "code",
   "execution_count": 15,
   "metadata": {},
   "outputs": [
    {
     "name": "stdout",
     "output_type": "stream",
     "text": [
      "[분류 결과] \n",
      " [1 0 0 0 0 0 1 1 1 0 0 0 0 1 1 0 0 1 0 1 1 1 0 0 0 0 1 0 1 1 0 0 0 0 0 0 1\n",
      " 1 1 1 0 0 0 0 0 0 0 1 0 1 0 1 0 1 1 1 1 0 0 1 0 0 0 0]\n",
      "\n",
      " 테스트 정확도 : 0.75\n",
      "\n",
      "인도네시아어-> 영어 테스트 정확도 : 0.7857142857142857\n",
      "\n",
      "스페인어-> 영어 테스트 정확도 : 0.8333333333333334\n"
     ]
    }
   ],
   "source": [
    "from sklearn.svm import SVC #Ridge\n",
    "model = SVC(random_state=42)\n",
    " \n",
    "\n",
    "#분류 모델 학습 \n",
    "model.fit(X_train, y_train)  \n",
    "\n",
    "#분류 결과\n",
    "print('[분류 결과] \\n', model.predict(X_test)) \n",
    "print('\\n 테스트 정확도 :', model.score(X_test, y_test))  \n",
    "SVM= model.score(X_test, y_test)\n",
    "\n",
    "\n",
    "print('\\n인도네시아어-> 영어 테스트 정확도 :', model.score(X0_test, y0_test))  \n",
    "SVM_pred0 = model.score(X0_test, y0_test)\n",
    "\n",
    "print('\\n스페인어-> 영어 테스트 정확도 :', model.score(X1_test, y1_test))  \n",
    "SVM_pred1 = model.score(X1_test, y1_test)"
   ]
  },
  {
   "cell_type": "code",
   "execution_count": 16,
   "metadata": {},
   "outputs": [
    {
     "data": {
      "image/png": "[encoded data removed]",
      "text/plain": [
       "<Figure size 432x288 with 2 Axes>"
      ]
     },
     "metadata": {
      "needs_background": "light"
     },
     "output_type": "display_data"
    },
    {
     "data": {
      "image/png": "[encoded data removed]",
      "text/plain": [
       "<Figure size 396x288 with 2 Axes>"
      ]
     },
     "metadata": {
      "needs_background": "light"
     },
     "output_type": "display_data"
    },
    {
     "name": "stdout",
     "output_type": "stream",
     "text": [
      "Accuracy : 0.786 \n",
      "Precision : 0.846 \n",
      "Recall : 0.917 \n",
      "F1_score: 0.880 \n"
     ]
    },
    {
     "data": {
      "image/png": "[encoded data removed]",
      "text/plain": [
       "<Figure size 396x288 with 2 Axes>"
      ]
     },
     "metadata": {
      "needs_background": "light"
     },
     "output_type": "display_data"
    },
    {
     "name": "stdout",
     "output_type": "stream",
     "text": [
      "Accuracy : 0.833 \n",
      "Precision : 0.882 \n",
      "Recall : 0.938 \n",
      "F1_score: 0.909 \n"
     ]
    }
   ],
   "source": [
    "plot_confusion_matrix(model, X_test, y_test, display_labels= ['상위50%', '하위 50%'])  \n",
    "confusion_matrix_lan(X0_test, y0_test,'인도네시아어','영어')\n",
    "confusion_matrix_lan(X1_test, y1_test,'스페인어','영어')"
   ]
  },
  {
   "cell_type": "markdown",
   "metadata": {},
   "source": [
    "# Models Evaluation \n",
    "## 영어 자체"
   ]
  },
  {
   "cell_type": "code",
   "execution_count": 17,
   "metadata": {
    "scrolled": false
   },
   "outputs": [
    {
     "data": {
      "image/png": "[encoded data removed]",
      "text/plain": [
       "<Figure size 432x288 with 1 Axes>"
      ]
     },
     "metadata": {
      "needs_background": "light"
     },
     "output_type": "display_data"
    },
    {
     "data": {
      "text/html": [
       "<div>\n",
       "<style scoped>\n",
       "    .dataframe tbody tr th:only-of-type {\n",
       "        vertical-align: middle;\n",
       "    }\n",
       "\n",
       "    .dataframe tbody tr th {\n",
       "        vertical-align: top;\n",
       "    }\n",
       "\n",
       "    .dataframe thead th {\n",
       "        text-align: right;\n",
       "    }\n",
       "</style>\n",
       "<table border=\"1\" class=\"dataframe\">\n",
       "  <thead>\n",
       "    <tr style=\"text-align: right;\">\n",
       "      <th></th>\n",
       "      <th>Accuracy</th>\n",
       "    </tr>\n",
       "  </thead>\n",
       "  <tbody>\n",
       "    <tr>\n",
       "      <th>Logistic</th>\n",
       "      <td>0.703125</td>\n",
       "    </tr>\n",
       "    <tr>\n",
       "      <th>KNN</th>\n",
       "      <td>0.765625</td>\n",
       "    </tr>\n",
       "    <tr>\n",
       "      <th>Random Forest</th>\n",
       "      <td>0.734375</td>\n",
       "    </tr>\n",
       "    <tr>\n",
       "      <th>SVM</th>\n",
       "      <td>0.750000</td>\n",
       "    </tr>\n",
       "  </tbody>\n",
       "</table>\n",
       "</div>"
      ],
      "text/plain": [
       "               Accuracy\n",
       "Logistic       0.703125\n",
       "KNN            0.765625\n",
       "Random Forest  0.734375\n",
       "SVM            0.750000"
      ]
     },
     "execution_count": 17,
     "metadata": {},
     "output_type": "execute_result"
    }
   ],
   "source": [
    "model_score=[logist,knn,RF, SVM]\n",
    "models= ['Logistic','KNN','Random Forest','SVM']\n",
    "\n",
    "plt.barh(models,model_score)\n",
    "plt.show()\n",
    "pd.DataFrame(model_score,index= models ,columns=['Accuracy'])"
   ]
  },
  {
   "cell_type": "markdown",
   "metadata": {},
   "source": [
    "## 인도네시아어 -> 영어"
   ]
  },
  {
   "cell_type": "code",
   "execution_count": 18,
   "metadata": {},
   "outputs": [
    {
     "data": {
      "image/png": "[encoded data removed]",
      "text/plain": [
       "<Figure size 432x288 with 1 Axes>"
      ]
     },
     "metadata": {
      "needs_background": "light"
     },
     "output_type": "display_data"
    },
    {
     "data": {
      "text/html": [
       "<div>\n",
       "<style scoped>\n",
       "    .dataframe tbody tr th:only-of-type {\n",
       "        vertical-align: middle;\n",
       "    }\n",
       "\n",
       "    .dataframe tbody tr th {\n",
       "        vertical-align: top;\n",
       "    }\n",
       "\n",
       "    .dataframe thead th {\n",
       "        text-align: right;\n",
       "    }\n",
       "</style>\n",
       "<table border=\"1\" class=\"dataframe\">\n",
       "  <thead>\n",
       "    <tr style=\"text-align: right;\">\n",
       "      <th></th>\n",
       "      <th>Accuracy</th>\n",
       "    </tr>\n",
       "  </thead>\n",
       "  <tbody>\n",
       "    <tr>\n",
       "      <th>Logistic</th>\n",
       "      <td>0.785714</td>\n",
       "    </tr>\n",
       "    <tr>\n",
       "      <th>KNN</th>\n",
       "      <td>0.785714</td>\n",
       "    </tr>\n",
       "    <tr>\n",
       "      <th>Random Forest</th>\n",
       "      <td>0.857143</td>\n",
       "    </tr>\n",
       "    <tr>\n",
       "      <th>SVM</th>\n",
       "      <td>0.785714</td>\n",
       "    </tr>\n",
       "  </tbody>\n",
       "</table>\n",
       "</div>"
      ],
      "text/plain": [
       "               Accuracy\n",
       "Logistic       0.785714\n",
       "KNN            0.785714\n",
       "Random Forest  0.857143\n",
       "SVM            0.785714"
      ]
     },
     "execution_count": 18,
     "metadata": {},
     "output_type": "execute_result"
    }
   ],
   "source": [
    "model_score=[logist_pred0, knn_pred0, RF_pred0, SVM_pred0]\n",
    "models= ['Logistic','KNN','Random Forest','SVM']\n",
    "plt.barh(models,model_score)\n",
    "plt.show()\n",
    "pd.DataFrame(model_score,index= models ,columns=['Accuracy'])"
   ]
  },
  {
   "cell_type": "markdown",
   "metadata": {},
   "source": [
    "## 스페인어 ->영어"
   ]
  },
  {
   "cell_type": "code",
   "execution_count": 19,
   "metadata": {
    "scrolled": false
   },
   "outputs": [
    {
     "data": {
      "image/png": "[encoded data removed]",
      "text/plain": [
       "<Figure size 432x288 with 1 Axes>"
      ]
     },
     "metadata": {
      "needs_background": "light"
     },
     "output_type": "display_data"
    },
    {
     "data": {
      "text/html": [
       "<div>\n",
       "<style scoped>\n",
       "    .dataframe tbody tr th:only-of-type {\n",
       "        vertical-align: middle;\n",
       "    }\n",
       "\n",
       "    .dataframe tbody tr th {\n",
       "        vertical-align: top;\n",
       "    }\n",
       "\n",
       "    .dataframe thead th {\n",
       "        text-align: right;\n",
       "    }\n",
       "</style>\n",
       "<table border=\"1\" class=\"dataframe\">\n",
       "  <thead>\n",
       "    <tr style=\"text-align: right;\">\n",
       "      <th></th>\n",
       "      <th>Accuracy</th>\n",
       "    </tr>\n",
       "  </thead>\n",
       "  <tbody>\n",
       "    <tr>\n",
       "      <th>Logistic</th>\n",
       "      <td>0.555556</td>\n",
       "    </tr>\n",
       "    <tr>\n",
       "      <th>KNN</th>\n",
       "      <td>0.722222</td>\n",
       "    </tr>\n",
       "    <tr>\n",
       "      <th>Random Forest</th>\n",
       "      <td>0.888889</td>\n",
       "    </tr>\n",
       "    <tr>\n",
       "      <th>SVM</th>\n",
       "      <td>0.833333</td>\n",
       "    </tr>\n",
       "  </tbody>\n",
       "</table>\n",
       "</div>"
      ],
      "text/plain": [
       "               Accuracy\n",
       "Logistic       0.555556\n",
       "KNN            0.722222\n",
       "Random Forest  0.888889\n",
       "SVM            0.833333"
      ]
     },
     "execution_count": 19,
     "metadata": {},
     "output_type": "execute_result"
    }
   ],
   "source": [
    "model_score=[logist_pred1, knn_pred1, RF_pred1, SVM_pred1]\n",
    "models= ['Logistic','KNN','Random Forest','SVM']\n",
    "plt.barh(models,model_score)\n",
    "plt.show()\n",
    "pd.DataFrame(model_score,index= models ,columns=['Accuracy'])"
   ]
  }
 ],
 "metadata": {
  "kernelspec": {
   "display_name": "Python 3",
   "language": "python",
   "name": "python3"
  },
  "language_info": {
   "codemirror_mode": {
    "name": "ipython",
    "version": 3
   },
   "file_extension": ".py",
   "mimetype": "text/x-python",
   "name": "python",
   "nbconvert_exporter": "python",
   "pygments_lexer": "ipython3",
   "version": "3.7.6"
  },
  "toc": {
   "base_numbering": 1,
   "nav_menu": {},
   "number_sections": true,
   "sideBar": true,
   "skip_h1_title": false,
   "title_cell": "Table of Contents",
   "title_sidebar": "Contents",
   "toc_cell": false,
   "toc_position": {},
   "toc_section_display": true,
   "toc_window_display": false
  },
  "varInspector": {
   "cols": {
    "lenName": 16,
    "lenType": 16,
    "lenVar": 40
   },
   "kernels_config": {
    "python": {
     "delete_cmd_postfix": "",
     "delete_cmd_prefix": "del ",
     "library": "var_list.py",
     "varRefreshCmd": "print(var_dic_list())"
    },
    "r": {
     "delete_cmd_postfix": ") ",
     "delete_cmd_prefix": "rm(",
     "library": "var_list.r",
     "varRefreshCmd": "cat(var_dic_list()) "
    }
   },
   "types_to_exclude": [
    "module",
    "function",
    "builtin_function_or_method",
    "instance",
    "_Feature"
   ],
   "window_display": false
  }
 },
 "nbformat": 4,
 "nbformat_minor": 4
}
