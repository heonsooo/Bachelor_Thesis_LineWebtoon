{
 "cells": [
  {
   "cell_type": "markdown",
   "metadata": {},
   "source": [
    "# 인도네시아어"
   ]
  },
  {
   "cell_type": "code",
   "execution_count": 1,
   "metadata": {},
   "outputs": [],
   "source": [
    "import pandas as pd\n",
    "import matplotlib.pyplot as plt\n",
    "# 윈도우의 한글 폰트 설정\n",
    "plt.rc('font', family='Malgun Gothic')\n",
    "\n",
    "# 시각화 그래프가 노트북 안에 보이게 하기\n",
    "%matplotlib inline\n",
    "plt.rcParams['axes.unicode_minus'] = False"
   ]
  },
  {
   "cell_type": "markdown",
   "metadata": {},
   "source": [
    "## 데이터 라벨링"
   ]
  },
  {
   "cell_type": "code",
   "execution_count": 2,
   "metadata": {},
   "outputs": [],
   "source": [
    "df_id_s = pd.read_csv('./data/[인도네시아어]라벨링_스케일링_이진.csv', encoding='utf-8')"
   ]
  },
  {
   "cell_type": "code",
   "execution_count": 3,
   "metadata": {},
   "outputs": [],
   "source": [
    "from sklearn.model_selection import train_test_split\n",
    "header = []\n",
    "for i in df_id_s:\n",
    "    header.append(i)\n",
    "\n",
    "    x = df_id_s[header[3:-1]]\n",
    "    y = df_id_s[header[-1]]  #데이터셋 분류: x=input variable, y=output variable\n",
    "\n",
    "    X_train, X_test, y_train, y_test = train_test_split(\n",
    "        x, y, test_size=0.3, random_state=42)  #데이터셋 학습용/테스트용 나눔"
   ]
  },
  {
   "cell_type": "markdown",
   "metadata": {},
   "source": [
    "## 예측 데이터"
   ]
  },
  {
   "cell_type": "code",
   "execution_count": 4,
   "metadata": {},
   "outputs": [],
   "source": [
    "df_en_s = pd.read_csv('./test/영어_공통웹툰_id타겟.csv', encoding='utf-8')\n",
    "X0_test = df_en_s[df_en_s.columns[1:-1]]\n",
    "y0_test = df_en_s[df_en_s.columns[-1]]\n",
    "\n",
    "df_sp_s = pd.read_csv('./test/스페인어_공통웹툰_id타겟.csv')\n",
    "X1_test = df_sp_s[df_sp_s.columns[1:-1]]\n",
    "y1_test = df_sp_s[df_sp_s.columns[-1]]"
   ]
  },
  {
   "cell_type": "markdown",
   "metadata": {},
   "source": [
    "# 이진분류\n",
    "## 1. 로지스틱회귀 이진분류"
   ]
  },
  {
   "cell_type": "code",
   "execution_count": 5,
   "metadata": {
    "scrolled": true
   },
   "outputs": [
    {
     "name": "stdout",
     "output_type": "stream",
     "text": [
      "[분류 결과] \n",
      " [1 0 1 0 0 0 1 0 1 0 0 0 0 1 1 0 0 1 1 1 0 0 0 0 0 0 1 1 0 1 1 0 0 0 1 0 0\n",
      " 0 0 0 1 0 1 0 1 0 0 0 0 0 1 1 1 0 1 1 1 0 0 1 1 0 1 0 0]\n",
      "\n",
      " 테스트 정확도 : 0.8\n",
      "\n",
      "영어-> 인도네시아어 테스트 정확도 : 0.5714285714285714\n",
      "\n",
      "스페인어-> 인도네시아어 테스트 정확도 : 0.7777777777777778\n"
     ]
    }
   ],
   "source": [
    "from sklearn.linear_model import LogisticRegression  #로지스틱회귀\n",
    "model = LogisticRegression()\n",
    "\n",
    "#분류 모델 학습\n",
    "model.fit(X_train, y_train)\n",
    "\n",
    "#분류 결과\n",
    "print('[분류 결과] \\n', model.predict(X_test))\n",
    "print('\\n 테스트 정확도 :', model.score(X_test, y_test))\n",
    "logist = model.score(X_test, y_test)\n",
    "\n",
    "print('\\n영어-> 인도네시아어 테스트 정확도 :', model.score(X0_test, y0_test))\n",
    "logist_pred0 = model.score(X0_test, y0_test)\n",
    "\n",
    "print('\\n스페인어-> 인도네시아어 테스트 정확도 :', model.score(X1_test, y1_test))\n",
    "logist_pred1 = model.score(X1_test, y1_test)"
   ]
  },
  {
   "cell_type": "code",
   "execution_count": 6,
   "metadata": {},
   "outputs": [
    {
     "data": {
      "text/html": [
       "<div>\n",
       "<style scoped>\n",
       "    .dataframe tbody tr th:only-of-type {\n",
       "        vertical-align: middle;\n",
       "    }\n",
       "\n",
       "    .dataframe tbody tr th {\n",
       "        vertical-align: top;\n",
       "    }\n",
       "\n",
       "    .dataframe thead th {\n",
       "        text-align: right;\n",
       "    }\n",
       "</style>\n",
       "<table border=\"1\" class=\"dataframe\">\n",
       "  <thead>\n",
       "    <tr style=\"text-align: right;\">\n",
       "      <th></th>\n",
       "      <th>Coef</th>\n",
       "    </tr>\n",
       "  </thead>\n",
       "  <tbody>\n",
       "    <tr>\n",
       "      <th>Comments Likes</th>\n",
       "      <td>2.344224</td>\n",
       "    </tr>\n",
       "    <tr>\n",
       "      <th>Action</th>\n",
       "      <td>1.648947</td>\n",
       "    </tr>\n",
       "    <tr>\n",
       "      <th>Amount</th>\n",
       "      <td>1.205419</td>\n",
       "    </tr>\n",
       "    <tr>\n",
       "      <th>Grade</th>\n",
       "      <td>0.705638</td>\n",
       "    </tr>\n",
       "    <tr>\n",
       "      <th>Subscribers</th>\n",
       "      <td>0.676662</td>\n",
       "    </tr>\n",
       "    <tr>\n",
       "      <th>Total Likes</th>\n",
       "      <td>0.631037</td>\n",
       "    </tr>\n",
       "    <tr>\n",
       "      <th>romantic-fantasy</th>\n",
       "      <td>0.626231</td>\n",
       "    </tr>\n",
       "    <tr>\n",
       "      <th>Romance</th>\n",
       "      <td>0.402586</td>\n",
       "    </tr>\n",
       "    <tr>\n",
       "      <th>SJ</th>\n",
       "      <td>0.378806</td>\n",
       "    </tr>\n",
       "    <tr>\n",
       "      <th>Slice of life</th>\n",
       "      <td>0.096943</td>\n",
       "    </tr>\n",
       "    <tr>\n",
       "      <th>GH</th>\n",
       "      <td>0.081380</td>\n",
       "    </tr>\n",
       "    <tr>\n",
       "      <th>Drama</th>\n",
       "      <td>0.066006</td>\n",
       "    </tr>\n",
       "    <tr>\n",
       "      <th>Sci-fi</th>\n",
       "      <td>0.000000</td>\n",
       "    </tr>\n",
       "    <tr>\n",
       "      <th>Sports</th>\n",
       "      <td>0.000000</td>\n",
       "    </tr>\n",
       "    <tr>\n",
       "      <th>Superhero</th>\n",
       "      <td>0.000000</td>\n",
       "    </tr>\n",
       "    <tr>\n",
       "      <th>heartwarming</th>\n",
       "      <td>0.000000</td>\n",
       "    </tr>\n",
       "    <tr>\n",
       "      <th>Supernatural</th>\n",
       "      <td>0.000000</td>\n",
       "    </tr>\n",
       "    <tr>\n",
       "      <th>KA</th>\n",
       "      <td>-0.139019</td>\n",
       "    </tr>\n",
       "    <tr>\n",
       "      <th>Fantasy</th>\n",
       "      <td>-0.242312</td>\n",
       "    </tr>\n",
       "    <tr>\n",
       "      <th>ML</th>\n",
       "      <td>-0.321059</td>\n",
       "    </tr>\n",
       "    <tr>\n",
       "      <th>Horor</th>\n",
       "      <td>-0.412816</td>\n",
       "    </tr>\n",
       "    <tr>\n",
       "      <th>Thriller</th>\n",
       "      <td>-0.449454</td>\n",
       "    </tr>\n",
       "    <tr>\n",
       "      <th>Comedy</th>\n",
       "      <td>-1.590494</td>\n",
       "    </tr>\n",
       "  </tbody>\n",
       "</table>\n",
       "</div>"
      ],
      "text/plain": [
       "                      Coef\n",
       "Comments Likes    2.344224\n",
       "Action            1.648947\n",
       "Amount            1.205419\n",
       "Grade             0.705638\n",
       "Subscribers       0.676662\n",
       "Total Likes       0.631037\n",
       "romantic-fantasy  0.626231\n",
       "Romance           0.402586\n",
       "SJ                0.378806\n",
       "Slice of life     0.096943\n",
       "GH                0.081380\n",
       "Drama             0.066006\n",
       "Sci-fi            0.000000\n",
       "Sports            0.000000\n",
       "Superhero         0.000000\n",
       "heartwarming      0.000000\n",
       "Supernatural      0.000000\n",
       "KA               -0.139019\n",
       "Fantasy          -0.242312\n",
       "ML               -0.321059\n",
       "Horor            -0.412816\n",
       "Thriller         -0.449454\n",
       "Comedy           -1.590494"
      ]
     },
     "execution_count": 6,
     "metadata": {},
     "output_type": "execute_result"
    },
    {
     "data": {
      "image/png": "[encoded data removed]",
      "text/plain": [
       "<Figure size 432x288 with 1 Axes>"
      ]
     },
     "metadata": {
      "needs_background": "light"
     },
     "output_type": "display_data"
    }
   ],
   "source": [
    "df_LG = pd.DataFrame(model.coef_[0], columns=['Coef'], index= X_test.columns ).sort_values(by='Coef')\n",
    "df_LG.plot(kind = 'barh')\n",
    "df_LG.sort_values(by='Coef', ascending = False)"
   ]
  },
  {
   "cell_type": "markdown",
   "metadata": {},
   "source": [
    "### 로지스틱회귀  Confusion Matrix & Performances"
   ]
  },
  {
   "cell_type": "code",
   "execution_count": 7,
   "metadata": {},
   "outputs": [],
   "source": [
    "from sklearn.metrics import confusion_matrix\n",
    "from sklearn.metrics import plot_confusion_matrix\n",
    "import seaborn as sns\n",
    "from sklearn.metrics import accuracy_score, precision_score, recall_score, f1_score\n",
    "\n",
    "\n",
    "def confusion_matrix_lan(X_test, y_test, lan1, lan2):\n",
    "    y_true = list(y_test)\n",
    "    y_pred = model.predict(X_test)\n",
    "    confusion_matrix(y_true, y_pred)\n",
    "\n",
    "    cm = confusion_matrix(y_test, y_pred)\n",
    "\n",
    "    # Transform to df for easier plotting\n",
    "    cm_df = pd.DataFrame(cm,\n",
    "                         index=['상위50%', '하위50%'],\n",
    "                         columns=['상위50%', '하위50%'])\n",
    "\n",
    "    plt.figure(figsize=(5.5, 4))\n",
    "    sns.heatmap(cm_df, annot=True)\n",
    "    plt.title(lan1 + '-> ' + lan2 +\n",
    "              ' \\nAccuracy:{0:.3f}'.format(accuracy_score(y_test, y_pred)))\n",
    "    plt.ylabel('True label')\n",
    "    plt.xlabel('Predicted label')\n",
    "    plt.show()\n",
    "\n",
    "    print(\n",
    "        'Accuracy : {:.3f} \\nPrecision : {:.3f} \\nRecall : {:.3f} \\nF1_score: {:.3f} '\n",
    "        .format(accuracy_score(y_test, y_pred),\n",
    "                precision_score(y_test, y_pred), recall_score(y_test, y_pred),\n",
    "                f1_score(y_test, y_pred)))"
   ]
  },
  {
   "cell_type": "code",
   "execution_count": 8,
   "metadata": {},
   "outputs": [
    {
     "data": {
      "image/png": "[encoded data removed]",
      "text/plain": [
       "<Figure size 432x288 with 2 Axes>"
      ]
     },
     "metadata": {
      "needs_background": "light"
     },
     "output_type": "display_data"
    },
    {
     "data": {
      "image/png": "[encoded data removed]",
      "text/plain": [
       "<Figure size 396x288 with 2 Axes>"
      ]
     },
     "metadata": {
      "needs_background": "light"
     },
     "output_type": "display_data"
    },
    {
     "name": "stdout",
     "output_type": "stream",
     "text": [
      "Accuracy : 0.571 \n",
      "Precision : 0.615 \n",
      "Recall : 0.889 \n",
      "F1_score: 0.727 \n"
     ]
    },
    {
     "data": {
      "image/png": "[encoded data removed]",
      "text/plain": [
       "<Figure size 396x288 with 2 Axes>"
      ]
     },
     "metadata": {
      "needs_background": "light"
     },
     "output_type": "display_data"
    },
    {
     "name": "stdout",
     "output_type": "stream",
     "text": [
      "Accuracy : 0.778 \n",
      "Precision : 0.786 \n",
      "Recall : 0.917 \n",
      "F1_score: 0.846 \n"
     ]
    }
   ],
   "source": [
    "plot_confusion_matrix(model,\n",
    "                      X_test,\n",
    "                      y_test,\n",
    "                      display_labels=['상위50%', '하위 50%'])\n",
    "confusion_matrix_lan(X0_test, y0_test, '영어', '인도네시아어')\n",
    "confusion_matrix_lan(X1_test, y1_test, '스페인어', '인도네시아어')"
   ]
  },
  {
   "cell_type": "markdown",
   "metadata": {},
   "source": [
    "## KNN "
   ]
  },
  {
   "cell_type": "code",
   "execution_count": 9,
   "metadata": {},
   "outputs": [
    {
     "data": {
      "text/plain": [
       "[<matplotlib.lines.Line2D at 0x1ea2d6e5208>]"
      ]
     },
     "execution_count": 9,
     "metadata": {},
     "output_type": "execute_result"
    },
    {
     "data": {
      "image/png": "[encoded data removed]",
      "text/plain": [
       "<Figure size 432x288 with 1 Axes>"
      ]
     },
     "metadata": {
      "needs_background": "light"
     },
     "output_type": "display_data"
    }
   ],
   "source": [
    "from sklearn.neighbors import KNeighborsClassifier\n",
    "\n",
    "#model = KNeighborsClassifier(n_neighbors=4)\n",
    "#model.fit(X_train, y_train)\n",
    "#print('[분류 결과] \\n', model.predict(X_test))\n",
    "k = 50\n",
    "scores = []\n",
    "for i in range(1, k):\n",
    "    model = KNeighborsClassifier(n_neighbors=i)\n",
    "    model.fit(X_train, y_train)\n",
    "    score = model.score(X_test, y_test)\n",
    "    #print('\\n [테스트 정확도] :', score)\n",
    "    scores.append(score)\n",
    "# print(model.predict_proba(X_test))\n",
    "K = scores.index(max(scores)) + 1\n",
    "plt.plot([i for i in range(1, k)], scores)"
   ]
  },
  {
   "cell_type": "code",
   "execution_count": 10,
   "metadata": {
    "scrolled": true
   },
   "outputs": [
    {
     "name": "stdout",
     "output_type": "stream",
     "text": [
      "[분류 결과] \n",
      " [1 0 1 0 0 0 1 1 1 0 0 0 0 1 0 0 0 1 1 0 0 0 0 0 0 0 1 1 0 1 1 0 0 0 1 0 0\n",
      " 0 0 1 0 0 1 0 1 0 0 0 0 0 1 1 1 0 1 1 0 0 0 1 1 0 1 0 0]\n",
      "\n",
      " [테스트 정확도] : 0.8615384615384616\n",
      "\n",
      "영어-> 인도네시아어 테스트 정확도 : 0.5714285714285714\n",
      "\n",
      "스페인어-> 인도네시아어 테스트 정확도 : 0.6111111111111112\n"
     ]
    }
   ],
   "source": [
    "from sklearn.neighbors import KNeighborsClassifier\n",
    "model = KNeighborsClassifier(n_neighbors=K)\n",
    "model.fit(X_train, y_train)\n",
    "\n",
    "#print(model.predict_proba(X_test))\n",
    "print('[분류 결과] \\n', model.predict(X_test))\n",
    "print('\\n [테스트 정확도] :', model.score(X_test, y_test))\n",
    "# model.predict(xx_test)\n",
    "knn = model.score(X_test, y_test)\n",
    "\n",
    "print('\\n영어-> 인도네시아어 테스트 정확도 :', model.score(X0_test, y0_test))\n",
    "knn_pred0 = model.score(X0_test, y0_test)\n",
    "\n",
    "print('\\n스페인어-> 인도네시아어 테스트 정확도 :', model.score(X1_test, y1_test))\n",
    "knn_pred1 = model.score(X1_test, y1_test)"
   ]
  },
  {
   "cell_type": "code",
   "execution_count": 11,
   "metadata": {},
   "outputs": [
    {
     "data": {
      "image/png": "[encoded data removed]",
      "text/plain": [
       "<Figure size 432x288 with 2 Axes>"
      ]
     },
     "metadata": {
      "needs_background": "light"
     },
     "output_type": "display_data"
    },
    {
     "data": {
      "image/png": "[encoded data removed]",
      "text/plain": [
       "<Figure size 396x288 with 2 Axes>"
      ]
     },
     "metadata": {
      "needs_background": "light"
     },
     "output_type": "display_data"
    },
    {
     "name": "stdout",
     "output_type": "stream",
     "text": [
      "Accuracy : 0.571 \n",
      "Precision : 0.615 \n",
      "Recall : 0.889 \n",
      "F1_score: 0.727 \n"
     ]
    },
    {
     "data": {
      "image/png": "[encoded data removed]",
      "text/plain": [
       "<Figure size 396x288 with 2 Axes>"
      ]
     },
     "metadata": {
      "needs_background": "light"
     },
     "output_type": "display_data"
    },
    {
     "name": "stdout",
     "output_type": "stream",
     "text": [
      "Accuracy : 0.611 \n",
      "Precision : 0.667 \n",
      "Recall : 0.833 \n",
      "F1_score: 0.741 \n"
     ]
    }
   ],
   "source": [
    "plot_confusion_matrix(model,\n",
    "                      X_test,\n",
    "                      y_test,\n",
    "                      display_labels=['상위50%', '하위 50%'])\n",
    "confusion_matrix_lan(X0_test, y0_test, '영어', '인도네시아어')\n",
    "confusion_matrix_lan(X1_test, y1_test, '스페인어', '인도네시아어')"
   ]
  },
  {
   "cell_type": "markdown",
   "metadata": {},
   "source": [
    "## RandomForest"
   ]
  },
  {
   "cell_type": "code",
   "execution_count": 12,
   "metadata": {},
   "outputs": [
    {
     "name": "stdout",
     "output_type": "stream",
     "text": [
      "[분류 결과] \n",
      " [1 0 1 0 0 0 1 0 0 0 0 0 0 0 0 0 0 1 1 0 0 0 0 0 0 0 1 1 0 1 1 0 0 0 1 0 1\n",
      " 0 0 1 1 0 1 0 1 0 0 0 0 0 1 1 1 0 1 1 0 0 0 1 1 0 1 0 0]\n",
      "\n",
      " [테스트 정확도] : 0.8153846153846154\n",
      "\n",
      "영어-> 인도네시아어 테스트 정확도 : 0.5714285714285714\n",
      "\n",
      "스페인어-> 인도네시아어 테스트 정확도 : 0.5\n"
     ]
    }
   ],
   "source": [
    "from sklearn.ensemble import RandomForestClassifier\n",
    "from sklearn.datasets import make_classification\n",
    "model = RandomForestClassifier(max_depth=2, random_state=0)\n",
    "model.fit(X_train, y_train)\n",
    "\n",
    "#print(model.predict_proba(X_test))\n",
    "print('[분류 결과] \\n', model.predict(X_test))\n",
    "print('\\n [테스트 정확도] :', model.score(X_test, y_test))\n",
    "\n",
    "RF = model.score(X_test, y_test)\n",
    "# print('스페인어 분류 예측:', model.predict(xx_test))\n",
    "\n",
    "print('\\n영어-> 인도네시아어 테스트 정확도 :', model.score(X0_test, y0_test))\n",
    "RF_pred0 = model.score(X0_test, y0_test)\n",
    "\n",
    "print('\\n스페인어-> 인도네시아어 테스트 정확도 :', model.score(X1_test, y1_test))\n",
    "RF_pred1 = model.score(X1_test, y1_test)"
   ]
  },
  {
   "cell_type": "code",
   "execution_count": 13,
   "metadata": {},
   "outputs": [
    {
     "data": {
      "text/html": [
       "<div>\n",
       "<style scoped>\n",
       "    .dataframe tbody tr th:only-of-type {\n",
       "        vertical-align: middle;\n",
       "    }\n",
       "\n",
       "    .dataframe tbody tr th {\n",
       "        vertical-align: top;\n",
       "    }\n",
       "\n",
       "    .dataframe thead th {\n",
       "        text-align: right;\n",
       "    }\n",
       "</style>\n",
       "<table border=\"1\" class=\"dataframe\">\n",
       "  <thead>\n",
       "    <tr style=\"text-align: right;\">\n",
       "      <th></th>\n",
       "      <th>Importance</th>\n",
       "    </tr>\n",
       "  </thead>\n",
       "  <tbody>\n",
       "    <tr>\n",
       "      <th>Comments Likes</th>\n",
       "      <td>0.332567</td>\n",
       "    </tr>\n",
       "    <tr>\n",
       "      <th>Amount</th>\n",
       "      <td>0.133265</td>\n",
       "    </tr>\n",
       "    <tr>\n",
       "      <th>Subscribers</th>\n",
       "      <td>0.111617</td>\n",
       "    </tr>\n",
       "    <tr>\n",
       "      <th>Total Likes</th>\n",
       "      <td>0.107187</td>\n",
       "    </tr>\n",
       "    <tr>\n",
       "      <th>Grade</th>\n",
       "      <td>0.106841</td>\n",
       "    </tr>\n",
       "    <tr>\n",
       "      <th>Comedy</th>\n",
       "      <td>0.052050</td>\n",
       "    </tr>\n",
       "    <tr>\n",
       "      <th>ML</th>\n",
       "      <td>0.042576</td>\n",
       "    </tr>\n",
       "    <tr>\n",
       "      <th>Action</th>\n",
       "      <td>0.028533</td>\n",
       "    </tr>\n",
       "    <tr>\n",
       "      <th>romantic-fantasy</th>\n",
       "      <td>0.024247</td>\n",
       "    </tr>\n",
       "    <tr>\n",
       "      <th>Horor</th>\n",
       "      <td>0.010439</td>\n",
       "    </tr>\n",
       "    <tr>\n",
       "      <th>SJ</th>\n",
       "      <td>0.010377</td>\n",
       "    </tr>\n",
       "    <tr>\n",
       "      <th>GH</th>\n",
       "      <td>0.010110</td>\n",
       "    </tr>\n",
       "    <tr>\n",
       "      <th>Slice of life</th>\n",
       "      <td>0.008837</td>\n",
       "    </tr>\n",
       "    <tr>\n",
       "      <th>Drama</th>\n",
       "      <td>0.006701</td>\n",
       "    </tr>\n",
       "    <tr>\n",
       "      <th>Thriller</th>\n",
       "      <td>0.004587</td>\n",
       "    </tr>\n",
       "    <tr>\n",
       "      <th>Fantasy</th>\n",
       "      <td>0.003825</td>\n",
       "    </tr>\n",
       "    <tr>\n",
       "      <th>Romance</th>\n",
       "      <td>0.003567</td>\n",
       "    </tr>\n",
       "    <tr>\n",
       "      <th>KA</th>\n",
       "      <td>0.002673</td>\n",
       "    </tr>\n",
       "    <tr>\n",
       "      <th>Sports</th>\n",
       "      <td>0.000000</td>\n",
       "    </tr>\n",
       "    <tr>\n",
       "      <th>Sci-fi</th>\n",
       "      <td>0.000000</td>\n",
       "    </tr>\n",
       "    <tr>\n",
       "      <th>heartwarming</th>\n",
       "      <td>0.000000</td>\n",
       "    </tr>\n",
       "    <tr>\n",
       "      <th>Supernatural</th>\n",
       "      <td>0.000000</td>\n",
       "    </tr>\n",
       "    <tr>\n",
       "      <th>Superhero</th>\n",
       "      <td>0.000000</td>\n",
       "    </tr>\n",
       "  </tbody>\n",
       "</table>\n",
       "</div>"
      ],
      "text/plain": [
       "                  Importance\n",
       "Comments Likes      0.332567\n",
       "Amount              0.133265\n",
       "Subscribers         0.111617\n",
       "Total Likes         0.107187\n",
       "Grade               0.106841\n",
       "Comedy              0.052050\n",
       "ML                  0.042576\n",
       "Action              0.028533\n",
       "romantic-fantasy    0.024247\n",
       "Horor               0.010439\n",
       "SJ                  0.010377\n",
       "GH                  0.010110\n",
       "Slice of life       0.008837\n",
       "Drama               0.006701\n",
       "Thriller            0.004587\n",
       "Fantasy             0.003825\n",
       "Romance             0.003567\n",
       "KA                  0.002673\n",
       "Sports              0.000000\n",
       "Sci-fi              0.000000\n",
       "heartwarming        0.000000\n",
       "Supernatural        0.000000\n",
       "Superhero           0.000000"
      ]
     },
     "execution_count": 13,
     "metadata": {},
     "output_type": "execute_result"
    },
    {
     "data": {
      "image/png": "[encoded data removed]",
      "text/plain": [
       "<Figure size 432x288 with 1 Axes>"
      ]
     },
     "metadata": {
      "needs_background": "light"
     },
     "output_type": "display_data"
    }
   ],
   "source": [
    "df_RF = pd.DataFrame(model.feature_importances_,\n",
    "             columns=['Importance'], index = X_test.columns).sort_values(by='Importance')\n",
    "df_RF.plot(kind='barh' ,sort_columns ='Importance' )\n",
    "df_RF.sort_values(by='Importance', ascending = False)"
   ]
  },
  {
   "cell_type": "code",
   "execution_count": 14,
   "metadata": {},
   "outputs": [
    {
     "data": {
      "image/png": "[encoded data removed]",
      "text/plain": [
       "<Figure size 432x288 with 2 Axes>"
      ]
     },
     "metadata": {
      "needs_background": "light"
     },
     "output_type": "display_data"
    },
    {
     "data": {
      "image/png": "[encoded data removed]",
      "text/plain": [
       "<Figure size 396x288 with 2 Axes>"
      ]
     },
     "metadata": {
      "needs_background": "light"
     },
     "output_type": "display_data"
    },
    {
     "name": "stdout",
     "output_type": "stream",
     "text": [
      "Accuracy : 0.571 \n",
      "Precision : 0.667 \n",
      "Recall : 0.667 \n",
      "F1_score: 0.667 \n"
     ]
    },
    {
     "data": {
      "image/png": "[encoded data removed]",
      "text/plain": [
       "<Figure size 396x288 with 2 Axes>"
      ]
     },
     "metadata": {
      "needs_background": "light"
     },
     "output_type": "display_data"
    },
    {
     "name": "stdout",
     "output_type": "stream",
     "text": [
      "Accuracy : 0.500 \n",
      "Precision : 0.636 \n",
      "Recall : 0.583 \n",
      "F1_score: 0.609 \n"
     ]
    }
   ],
   "source": [
    "plot_confusion_matrix(model,\n",
    "                      X_test,\n",
    "                      y_test,\n",
    "                      display_labels=['상위50%', '하위 50%'])\n",
    "confusion_matrix_lan(X0_test, y0_test, '영어', '인도네시아어')\n",
    "confusion_matrix_lan(X1_test, y1_test, '스페인어', '인도네시아어')"
   ]
  },
  {
   "cell_type": "markdown",
   "metadata": {},
   "source": [
    "## SVM - SVC"
   ]
  },
  {
   "cell_type": "code",
   "execution_count": 15,
   "metadata": {},
   "outputs": [
    {
     "name": "stdout",
     "output_type": "stream",
     "text": [
      "[분류 결과] \n",
      " [1 0 1 0 0 0 1 1 1 0 0 0 0 1 0 0 0 1 1 0 0 0 0 0 0 0 1 1 0 1 1 0 0 0 1 0 0\n",
      " 0 0 0 0 0 1 0 1 0 0 0 0 0 1 1 1 0 1 1 0 0 0 1 1 0 1 0 0]\n",
      "\n",
      " 테스트 정확도 : 0.8461538461538461\n",
      "\n",
      "영어-> 인도네시아어 테스트 정확도 : 0.5714285714285714\n",
      "\n",
      "스페인어-> 인도네시아어 테스트 정확도 : 0.6666666666666666\n"
     ]
    }
   ],
   "source": [
    "from sklearn.svm import SVC  #Ridge\n",
    "model = SVC(random_state=42)\n",
    "\n",
    "#분류 모델 학습\n",
    "model.fit(X_train, y_train)\n",
    "\n",
    "#분류 결과\n",
    "print('[분류 결과] \\n', model.predict(X_test))\n",
    "print('\\n 테스트 정확도 :', model.score(X_test, y_test))\n",
    "SVM = model.score(X_test, y_test)\n",
    "\n",
    "print('\\n영어-> 인도네시아어 테스트 정확도 :', model.score(X0_test, y0_test))\n",
    "SVM_pred0 = model.score(X0_test, y0_test)\n",
    "\n",
    "print('\\n스페인어-> 인도네시아어 테스트 정확도 :', model.score(X1_test, y1_test))\n",
    "SVM_pred1 = model.score(X1_test, y1_test)"
   ]
  },
  {
   "cell_type": "code",
   "execution_count": 16,
   "metadata": {},
   "outputs": [
    {
     "data": {
      "image/png": "[encoded data removed]",
      "text/plain": [
       "<Figure size 432x288 with 2 Axes>"
      ]
     },
     "metadata": {
      "needs_background": "light"
     },
     "output_type": "display_data"
    },
    {
     "data": {
      "image/png": "[encoded data removed]",
      "text/plain": [
       "<Figure size 396x288 with 2 Axes>"
      ]
     },
     "metadata": {
      "needs_background": "light"
     },
     "output_type": "display_data"
    },
    {
     "name": "stdout",
     "output_type": "stream",
     "text": [
      "Accuracy : 0.571 \n",
      "Precision : 0.615 \n",
      "Recall : 0.889 \n",
      "F1_score: 0.727 \n"
     ]
    },
    {
     "data": {
      "image/png": "[encoded data removed]",
      "text/plain": [
       "<Figure size 396x288 with 2 Axes>"
      ]
     },
     "metadata": {
      "needs_background": "light"
     },
     "output_type": "display_data"
    },
    {
     "name": "stdout",
     "output_type": "stream",
     "text": [
      "Accuracy : 0.667 \n",
      "Precision : 0.688 \n",
      "Recall : 0.917 \n",
      "F1_score: 0.786 \n"
     ]
    }
   ],
   "source": [
    "plot_confusion_matrix(model,\n",
    "                      X_test,\n",
    "                      y_test,\n",
    "                      display_labels=['상위50%', '하위 50%'])\n",
    "confusion_matrix_lan(X0_test, y0_test, '영어', '인도네시아어')\n",
    "confusion_matrix_lan(X1_test, y1_test, '스페인어', '인도네시아어')"
   ]
  },
  {
   "cell_type": "markdown",
   "metadata": {},
   "source": [
    "# Models Evaluation \n",
    "## 인도네시아어 자체"
   ]
  },
  {
   "cell_type": "code",
   "execution_count": 17,
   "metadata": {
    "scrolled": false
   },
   "outputs": [
    {
     "data": {
      "image/png": "[encoded data removed]",
      "text/plain": [
       "<Figure size 432x288 with 1 Axes>"
      ]
     },
     "metadata": {
      "needs_background": "light"
     },
     "output_type": "display_data"
    },
    {
     "data": {
      "text/html": [
       "<div>\n",
       "<style scoped>\n",
       "    .dataframe tbody tr th:only-of-type {\n",
       "        vertical-align: middle;\n",
       "    }\n",
       "\n",
       "    .dataframe tbody tr th {\n",
       "        vertical-align: top;\n",
       "    }\n",
       "\n",
       "    .dataframe thead th {\n",
       "        text-align: right;\n",
       "    }\n",
       "</style>\n",
       "<table border=\"1\" class=\"dataframe\">\n",
       "  <thead>\n",
       "    <tr style=\"text-align: right;\">\n",
       "      <th></th>\n",
       "      <th>Accuracy</th>\n",
       "    </tr>\n",
       "  </thead>\n",
       "  <tbody>\n",
       "    <tr>\n",
       "      <th>Logistic</th>\n",
       "      <td>0.800000</td>\n",
       "    </tr>\n",
       "    <tr>\n",
       "      <th>KNN</th>\n",
       "      <td>0.861538</td>\n",
       "    </tr>\n",
       "    <tr>\n",
       "      <th>Random Forest</th>\n",
       "      <td>0.815385</td>\n",
       "    </tr>\n",
       "    <tr>\n",
       "      <th>SVM</th>\n",
       "      <td>0.846154</td>\n",
       "    </tr>\n",
       "  </tbody>\n",
       "</table>\n",
       "</div>"
      ],
      "text/plain": [
       "               Accuracy\n",
       "Logistic       0.800000\n",
       "KNN            0.861538\n",
       "Random Forest  0.815385\n",
       "SVM            0.846154"
      ]
     },
     "execution_count": 17,
     "metadata": {},
     "output_type": "execute_result"
    }
   ],
   "source": [
    "model_score = [logist, knn, RF, SVM]\n",
    "models = ['Logistic', 'KNN', 'Random Forest', 'SVM']\n",
    "\n",
    "plt.barh(models, model_score,)\n",
    "plt.show()\n",
    "pd.DataFrame(model_score, index=models, columns=['Accuracy'])"
   ]
  },
  {
   "cell_type": "markdown",
   "metadata": {},
   "source": [
    "## 영어 -> 인도네시아어"
   ]
  },
  {
   "cell_type": "code",
   "execution_count": 18,
   "metadata": {
    "scrolled": false
   },
   "outputs": [
    {
     "data": {
      "image/png": "[encoded data removed]",
      "text/plain": [
       "<Figure size 432x288 with 1 Axes>"
      ]
     },
     "metadata": {
      "needs_background": "light"
     },
     "output_type": "display_data"
    },
    {
     "data": {
      "text/html": [
       "<div>\n",
       "<style scoped>\n",
       "    .dataframe tbody tr th:only-of-type {\n",
       "        vertical-align: middle;\n",
       "    }\n",
       "\n",
       "    .dataframe tbody tr th {\n",
       "        vertical-align: top;\n",
       "    }\n",
       "\n",
       "    .dataframe thead th {\n",
       "        text-align: right;\n",
       "    }\n",
       "</style>\n",
       "<table border=\"1\" class=\"dataframe\">\n",
       "  <thead>\n",
       "    <tr style=\"text-align: right;\">\n",
       "      <th></th>\n",
       "      <th>Accuracy</th>\n",
       "    </tr>\n",
       "  </thead>\n",
       "  <tbody>\n",
       "    <tr>\n",
       "      <th>Logistic</th>\n",
       "      <td>0.571429</td>\n",
       "    </tr>\n",
       "    <tr>\n",
       "      <th>KNN</th>\n",
       "      <td>0.571429</td>\n",
       "    </tr>\n",
       "    <tr>\n",
       "      <th>Random Forest</th>\n",
       "      <td>0.571429</td>\n",
       "    </tr>\n",
       "    <tr>\n",
       "      <th>SVM</th>\n",
       "      <td>0.571429</td>\n",
       "    </tr>\n",
       "  </tbody>\n",
       "</table>\n",
       "</div>"
      ],
      "text/plain": [
       "               Accuracy\n",
       "Logistic       0.571429\n",
       "KNN            0.571429\n",
       "Random Forest  0.571429\n",
       "SVM            0.571429"
      ]
     },
     "execution_count": 18,
     "metadata": {},
     "output_type": "execute_result"
    }
   ],
   "source": [
    "model_score=[logist_pred0,knn_pred0, RF_pred0, SVM_pred0]\n",
    "models= ['Logistic','KNN','Random Forest','SVM']\n",
    "plt.barh(models,model_score)\n",
    "plt.show()\n",
    "pd.DataFrame(model_score,index= models ,columns=['Accuracy'])"
   ]
  },
  {
   "cell_type": "markdown",
   "metadata": {},
   "source": [
    "##  스페인어 -> 인도네시아어\n"
   ]
  },
  {
   "cell_type": "code",
   "execution_count": 19,
   "metadata": {},
   "outputs": [
    {
     "data": {
      "image/png": "[encoded data removed]",
      "text/plain": [
       "<Figure size 432x288 with 1 Axes>"
      ]
     },
     "metadata": {
      "needs_background": "light"
     },
     "output_type": "display_data"
    },
    {
     "data": {
      "text/html": [
       "<div>\n",
       "<style scoped>\n",
       "    .dataframe tbody tr th:only-of-type {\n",
       "        vertical-align: middle;\n",
       "    }\n",
       "\n",
       "    .dataframe tbody tr th {\n",
       "        vertical-align: top;\n",
       "    }\n",
       "\n",
       "    .dataframe thead th {\n",
       "        text-align: right;\n",
       "    }\n",
       "</style>\n",
       "<table border=\"1\" class=\"dataframe\">\n",
       "  <thead>\n",
       "    <tr style=\"text-align: right;\">\n",
       "      <th></th>\n",
       "      <th>Accuracy</th>\n",
       "    </tr>\n",
       "  </thead>\n",
       "  <tbody>\n",
       "    <tr>\n",
       "      <th>Logistic</th>\n",
       "      <td>0.777778</td>\n",
       "    </tr>\n",
       "    <tr>\n",
       "      <th>KNN</th>\n",
       "      <td>0.611111</td>\n",
       "    </tr>\n",
       "    <tr>\n",
       "      <th>Random Forest</th>\n",
       "      <td>0.500000</td>\n",
       "    </tr>\n",
       "    <tr>\n",
       "      <th>SVM</th>\n",
       "      <td>0.666667</td>\n",
       "    </tr>\n",
       "  </tbody>\n",
       "</table>\n",
       "</div>"
      ],
      "text/plain": [
       "               Accuracy\n",
       "Logistic       0.777778\n",
       "KNN            0.611111\n",
       "Random Forest  0.500000\n",
       "SVM            0.666667"
      ]
     },
     "execution_count": 19,
     "metadata": {},
     "output_type": "execute_result"
    }
   ],
   "source": [
    "model_score = [logist_pred1, knn_pred1, RF_pred1, SVM_pred1]\n",
    "models = ['Logistic', 'KNN', 'Random Forest', 'SVM']\n",
    "plt.barh(models, model_score)\n",
    "plt.show()\n",
    "pd.DataFrame(model_score, index=models, columns=['Accuracy'])"
   ]
  }
 ],
 "metadata": {
  "kernelspec": {
   "display_name": "Python 3",
   "language": "python",
   "name": "python3"
  },
  "language_info": {
   "codemirror_mode": {
    "name": "ipython",
    "version": 3
   },
   "file_extension": ".py",
   "mimetype": "text/x-python",
   "name": "python",
   "nbconvert_exporter": "python",
   "pygments_lexer": "ipython3",
   "version": "3.7.6"
  },
  "toc": {
   "base_numbering": 1,
   "nav_menu": {},
   "number_sections": true,
   "sideBar": true,
   "skip_h1_title": false,
   "title_cell": "Table of Contents",
   "title_sidebar": "Contents",
   "toc_cell": false,
   "toc_position": {},
   "toc_section_display": true,
   "toc_window_display": false
  },
  "varInspector": {
   "cols": {
    "lenName": 16,
    "lenType": 16,
    "lenVar": 40
   },
   "kernels_config": {
    "python": {
     "delete_cmd_postfix": "",
     "delete_cmd_prefix": "del ",
     "library": "var_list.py",
     "varRefreshCmd": "print(var_dic_list())"
    },
    "r": {
     "delete_cmd_postfix": ") ",
     "delete_cmd_prefix": "rm(",
     "library": "var_list.r",
     "varRefreshCmd": "cat(var_dic_list()) "
    }
   },
   "types_to_exclude": [
    "module",
    "function",
    "builtin_function_or_method",
    "instance",
    "_Feature"
   ],
   "window_display": false
  }
 },
 "nbformat": 4,
 "nbformat_minor": 4
}
